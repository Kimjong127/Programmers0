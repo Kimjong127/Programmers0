{
 "cells": [
  {
   "cell_type": "markdown",
   "metadata": {},
   "source": [
    "### 리스트 자르기 (181897)\n",
    "문제 : 정수 n과 정수 3개가 담긴 리스트 slicer 그리고 정수 여러 개가 담긴 리스트 num_list가 주어집니다. slicer에 담긴 정수를 차례대로 a, b, c라고 할 때, n에 따라 다음과 같이 num_list를 슬라이싱 하려고 합니다.\n",
    "\n",
    "- n = 1 : num_list의 0번 인덱스부터 b번 인덱스까지\n",
    "- n = 2 : num_list의 a번 인덱스부터 마지막 인덱스까지\n",
    "- n = 3 : num_list의 a번 인덱스부터 b번 인덱스까지\n",
    "- n = 4 : num_list의 a번 인덱스부터 b번 인덱스까지 c 간격으로\n",
    "올바르게 슬라이싱한 리스트를 return하도록 solution 함수를 완성해주세요."
   ]
  },
  {
   "cell_type": "code",
   "execution_count": 15,
   "metadata": {},
   "outputs": [
    {
     "data": {
      "text/plain": [
       "[2, 3, 4, 5, 6]"
      ]
     },
     "execution_count": 15,
     "metadata": {},
     "output_type": "execute_result"
    }
   ],
   "source": [
    "def solution(n, slicer, num_list):\n",
    "    a, b, c = slicer    # slicer의 각 값들을 a, b, c 변수에 저장\n",
    "    if n == 1:\n",
    "        return num_list[:b+1]   # n==1 경우, num_list의 b+1까지 \n",
    "    elif n == 2:\n",
    "        return num_list[a:]     # n==2, a부터 끝까지\n",
    "    elif n == 3:\n",
    "        return num_list[a:b+1]   # n==3, a부터 b+1까지\n",
    "    else:\n",
    "        return num_list[a:b+1:c]  # n==4, a 부터 b+1까지 c간격으로\n",
    "    \n",
    "\n",
    "solution(3, [1, 5, 2], [1, 2, 3, 4, 5, 6, 7, 8, 9])"
   ]
  },
  {
   "cell_type": "code",
   "execution_count": null,
   "metadata": {},
   "outputs": [],
   "source": []
  },
  {
   "cell_type": "markdown",
   "metadata": {},
   "source": [
    "### 배열 만들기 3 (181895)\n",
    "문제 : 정수 배열 arr와 2개의 구간이 담긴 배열 intervals가 주어집니다.\n",
    "\n",
    "intervals는 항상 [[a1, b1], [a2, b2]]의 꼴로 주어지며 각 구간은 닫힌 구간입니다. 닫힌 구간은 양 끝값과 그 사이의 값을 모두 포함하는 구간을 의미합니다.\n",
    "\n",
    "이때 배열 arr의 첫 번째 구간에 해당하는 배열과 두 번째 구간에 해당하는 배열을 앞뒤로 붙여 새로운 배열을 만들어 return 하는 solution 함수를 완성해 주세요."
   ]
  },
  {
   "cell_type": "code",
   "execution_count": 5,
   "metadata": {},
   "outputs": [
    {
     "data": {
      "text/plain": [
       "[2, 3, 4, 1, 2, 3, 4, 5]"
      ]
     },
     "execution_count": 5,
     "metadata": {},
     "output_type": "execute_result"
    }
   ],
   "source": [
    "def solution(arr, intervals):\n",
    "    a, b = intervals[0], intervals[1]    # intervals[0] = a, intervals[1] = b\n",
    "    return arr[a[0]:a[1]+1] + arr[b[0]:b[1]+1]\n",
    "\n",
    "solution([1, 2, 3, 4, 5], [[1, 3], [0, 4]])"
   ]
  },
  {
   "cell_type": "code",
   "execution_count": null,
   "metadata": {},
   "outputs": [],
   "source": []
  },
  {
   "cell_type": "markdown",
   "metadata": {},
   "source": [
    "### 2의 영역 (181894)\n",
    "문제 : 정수 배열 arr가 주어집니다. 배열 안의 2가 모두 포함된 가장 작은 연속된 부분 배열을 return 하는 solution 함수를 완성해 주세요.\n",
    "\n",
    "단, arr에 2가 없는 경우 [-1]을 return 합니다."
   ]
  },
  {
   "cell_type": "code",
   "execution_count": 4,
   "metadata": {},
   "outputs": [
    {
     "data": {
      "text/plain": [
       "[-1]"
      ]
     },
     "execution_count": 4,
     "metadata": {},
     "output_type": "execute_result"
    }
   ],
   "source": [
    "# 배열을 중복으로 탐색하고, 2가 없는 경우 불필요한 탐색이 있어 시간 초과\n",
    "def solution(arr):\n",
    "    idx_list = []                # 2에 해당하는 인덱스를 담을 빈 리스트\n",
    "    for i, x in enumerate(arr):\n",
    "        if x == 2:               # x가 2인 경우\n",
    "            idx_list.append(i)   # 인덱스 리스트에 그에 해당하는 인덱스를 담는다\n",
    "        elif 2 not in arr:       # arr에 2가 없을 경우\n",
    "            return [-1]          # [-1]을 반환\n",
    "    return arr[min(idx_list):max(idx_list)+1]    # arr리스트의 인덱스리스트의 가장 처음 값부터 마지막값까지 슬라이싱하여 반환\n",
    "\n",
    "solution([1, 1, 1])"
   ]
  },
  {
   "cell_type": "code",
   "execution_count": 5,
   "metadata": {},
   "outputs": [
    {
     "data": {
      "text/plain": [
       "[-1]"
      ]
     },
     "execution_count": 5,
     "metadata": {},
     "output_type": "execute_result"
    }
   ],
   "source": [
    "# 배열을 한번만 순회하면서 첫 번째와 마지막 '2'의 위치를 기록\n",
    "def solution(arr):\n",
    "    first_idx = -1    \n",
    "    last_idx = -1\n",
    "    for i, x in enumerate(arr):\n",
    "        if x == 2:\n",
    "            if first_idx == -1:   # 첫 번째 2의 위치 찾음\n",
    "                first_idx = i\n",
    "            last_idx = i          # 마지막 2의 위치를 갱신\n",
    "\n",
    "    # 2가 배열에 없는 경우        \n",
    "    if first_idx == -1:\n",
    "        return [-1]\n",
    "    \n",
    "    # 첫 번째 2와 마지막 2 사이의 부분 배열을 반환\n",
    "    return arr[first_idx:last_idx+1]\n",
    "\n",
    "solution([1, 1, 1])"
   ]
  }
 ],
 "metadata": {
  "kernelspec": {
   "display_name": "Practice1",
   "language": "python",
   "name": "python3"
  },
  "language_info": {
   "codemirror_mode": {
    "name": "ipython",
    "version": 3
   },
   "file_extension": ".py",
   "mimetype": "text/x-python",
   "name": "python",
   "nbconvert_exporter": "python",
   "pygments_lexer": "ipython3",
   "version": "3.10.7"
  }
 },
 "nbformat": 4,
 "nbformat_minor": 2
}
