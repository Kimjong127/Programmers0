{
 "cells": [
  {
   "cell_type": "markdown",
   "id": "529721c5-a30b-4f6f-bc55-0027e376ef94",
   "metadata": {},
   "source": [
    "### 문자열의 앞의 n글자 (181907)\n",
    "문제 : 문자열 my_string과 정수 n이 매개변수로 주어질 때, my_string의 앞의 n글자로 이루어진 문자열을 return 하는 solution 함수를 작성해 주세요."
   ]
  },
  {
   "cell_type": "code",
   "execution_count": 2,
   "id": "9531c864-d3a7-45e6-8943-677b8af0c029",
   "metadata": {},
   "outputs": [
    {
     "data": {
      "text/plain": [
       "'ProgrammerS'"
      ]
     },
     "execution_count": 2,
     "metadata": {},
     "output_type": "execute_result"
    }
   ],
   "source": [
    "def solution(my_string, n):\n",
    "    return my_string[:n]\n",
    "\n",
    "solution(\"ProgrammerS123\", 11)"
   ]
  },
  {
   "cell_type": "code",
   "execution_count": null,
   "id": "21d2cede-2f89-4f18-9378-e53f40a7931e",
   "metadata": {},
   "outputs": [],
   "source": []
  },
  {
   "cell_type": "markdown",
   "id": "8d266181-b43d-436f-b153-2831c9b0cd31",
   "metadata": {},
   "source": [
    "### 등차수열의 특정한 항만 더하기 (181931)\n",
    "문제 : 두 정수 a, d와 길이가 n인 boolean 배열 included가 주어집니다. 첫째항이 a, 공차가 d인 등차수열에서 included[i]가 i + 1항을 의미할 때, 이 등차수열의 1항부터 n항까지 included가 true인 항들만 더한 값을 return 하는 solution 함수를 작성해 주세요."
   ]
  },
  {
   "cell_type": "code",
   "execution_count": 25,
   "id": "ef7a588e-95db-49e7-85bb-009540f5cd7b",
   "metadata": {},
   "outputs": [
    {
     "data": {
      "text/plain": [
       "10"
      ]
     },
     "execution_count": 25,
     "metadata": {},
     "output_type": "execute_result"
    }
   ],
   "source": [
    "def solution(a, d, included):\n",
    "    li = []\n",
    "    r = range(0, 3*len(included)*(d**2))[-1]\n",
    "    for i in range(a, r, d):\n",
    "        li.append(i)\n",
    "    result = 0\n",
    "    for j in range(len(included)):\n",
    "        if included[j] == True:\n",
    "            result += li[j]\n",
    "    return result\n",
    "            \n",
    "    \n",
    "solution(7, 1, [False, False, False, True, False, False, False])"
   ]
  },
  {
   "cell_type": "code",
   "execution_count": null,
   "id": "92aa57c8-61c4-4eac-b87b-1f0023c1d60d",
   "metadata": {},
   "outputs": [],
   "source": []
  },
  {
   "cell_type": "markdown",
   "id": "00e9d206-6dcd-438d-bc35-1f1b74dcd5ab",
   "metadata": {},
   "source": []
  }
 ],
 "metadata": {
  "kernelspec": {
   "display_name": "Python 3 (ipykernel)",
   "language": "python",
   "name": "python3"
  },
  "language_info": {
   "codemirror_mode": {
    "name": "ipython",
    "version": 3
   },
   "file_extension": ".py",
   "mimetype": "text/x-python",
   "name": "python",
   "nbconvert_exporter": "python",
   "pygments_lexer": "ipython3",
   "version": "3.10.7"
  }
 },
 "nbformat": 4,
 "nbformat_minor": 5
}
