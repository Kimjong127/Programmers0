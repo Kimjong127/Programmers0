{
 "cells": [
  {
   "cell_type": "markdown",
   "id": "1768f936-f220-486c-95bd-cd90e7cae230",
   "metadata": {},
   "source": [
    "### 접두사인지 확인하기 (181906)\n",
    "문제 : 어떤 문자열에 대해서 접두사는 특정 인덱스까지의 문자열을 의미합니다. 예를 들어, \"banana\"의 모든 접두사는 \"b\", \"ba\", \"ban\", \"bana\", \"banan\", \"banana\"입니다.\n",
    "문자열 my_string과 is_prefix가 주어질 때, is_prefix가 my_string의 접두사라면 1을, 아니면 0을 return 하는 solution 함수를 작성해 주세요."
   ]
  },
  {
   "cell_type": "code",
   "execution_count": 1,
   "id": "9685e362-4fbf-40e1-9bdf-3fc3be004412",
   "metadata": {},
   "outputs": [
    {
     "data": {
      "text/plain": [
       "1"
      ]
     },
     "execution_count": 1,
     "metadata": {},
     "output_type": "execute_result"
    }
   ],
   "source": [
    "def solution(my_string, is_prefix):\n",
    "    result = []\n",
    "    for i in range(len(my_string)):\n",
    "        result.append(my_string[:i])   # my_string의 첫 글자부터 i인덱스까지 result 리스트에 append\n",
    "    if is_prefix in result:            # is_prefix가 result 리스트에 있는 경우 1을 return, 아니면 0을 return\n",
    "        return 1\n",
    "    else:\n",
    "        return 0\n",
    "    \n",
    "solution(\"banana\", \"ban\")"
   ]
  },
  {
   "cell_type": "markdown",
   "id": "cc1c8ec7-d917-41e5-8f8c-9511e362e46c",
   "metadata": {},
   "source": [
    "### 문자열 뒤집기 (181905)\n",
    "문제 : 문자열 my_string과 정수 s, e가 매개변수로 주어질 때, my_string에서 인덱스 s부터 인덱스 e까지를 뒤집은 문자열을 return 하는 solution 함수를 작성해 주세요."
   ]
  },
  {
   "cell_type": "code",
   "execution_count": 2,
   "id": "1de2a58f-54b8-4606-8bee-92006e00c57c",
   "metadata": {},
   "outputs": [
    {
     "data": {
      "text/plain": [
       "'ProgrammerS123'"
      ]
     },
     "execution_count": 2,
     "metadata": {},
     "output_type": "execute_result"
    }
   ],
   "source": [
    "def solution(my_string, s, e):\n",
    "    reversed_my_string = my_string[s:e+1][::-1]   # my_string을 s부터 e+1까지 역순으로 reversed_my_string생성\n",
    "    my_string = my_string[:s] + reversed_my_string + my_string[e+1:] # 역순의 reverse_my_string을 my_string을 앞뒤로 슬라이싱한 것과 붙임\n",
    "    return my_string\n",
    "\n",
    "solution(\"Progra21Sremm3\", 6, 12)"
   ]
  },
  {
   "cell_type": "code",
   "execution_count": null,
   "id": "fec80d98-6b63-43f1-ba2a-d6ad7eefd1bf",
   "metadata": {},
   "outputs": [],
   "source": []
  },
  {
   "cell_type": "markdown",
   "id": "bdd6e223-4960-4a39-889c-b0008c82c62a",
   "metadata": {},
   "source": [
    "### 세로 읽기 (181904)\n",
    "문제 : 문자열 my_string과 두 정수 m, c가 주어집니다. my_string을 한 줄에 m 글자씩 가로로 적었을 때 왼쪽부터 세로로 c번째 열에 적힌 글자들을 문자열로 return 하는 solution 함수를 작성해 주세요."
   ]
  },
  {
   "cell_type": "code",
   "execution_count": 3,
   "id": "95409e85-7999-4bd7-a3ad-3c50ebcb0a8c",
   "metadata": {},
   "outputs": [
    {
     "data": {
      "text/plain": [
       "'happy'"
      ]
     },
     "execution_count": 3,
     "metadata": {},
     "output_type": "execute_result"
    }
   ],
   "source": [
    "def solution(my_string, m, c):\n",
    "    result = ''\n",
    "    for i in range(0, len(my_string), m):    # 0부터 my_string의 글자 수 만큼 m씩 반복문을 돌려\n",
    "        sub_string = my_string[i:i+m]        # my_string의 i부터 i+m까지의 문자열을 sub_string 변수에 저장\n",
    "        if len(sub_string) >= c:             # sub_string의 길이가 c보다 크거나 같을 경우,\n",
    "            result += sub_string[c-1]        # result에 sub_string[c-1]의 문자를 더해준다.\n",
    "    return result\n",
    "\n",
    "solution(\"ihrhbakrfpndopljhygc\", 4, 2)"
   ]
  }
 ],
 "metadata": {
  "kernelspec": {
   "display_name": "Python 3 (ipykernel)",
   "language": "python",
   "name": "python3"
  },
  "language_info": {
   "codemirror_mode": {
    "name": "ipython",
    "version": 3
   },
   "file_extension": ".py",
   "mimetype": "text/x-python",
   "name": "python",
   "nbconvert_exporter": "python",
   "pygments_lexer": "ipython3",
   "version": "3.10.7"
  }
 },
 "nbformat": 4,
 "nbformat_minor": 5
}
