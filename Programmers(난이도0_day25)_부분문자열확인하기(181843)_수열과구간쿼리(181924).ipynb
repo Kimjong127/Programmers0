{
 "cells": [
  {
   "cell_type": "markdown",
   "id": "2e740b3b-b09b-48bf-b39c-0e761bdbb756",
   "metadata": {},
   "source": [
    "### 부분 문자열인지 확인하기(181843)\n",
    "문제: 부분 문자열이란 문자열에서 연속된 일부분에 해당하는 문자열을 의미합니다. 예를 들어, 문자열 \"ana\", \"ban\", \"anana\", \"banana\", \"n\"는 모두 문자열 \"banana\"의 부분 문자열이지만, \"aaa\", \"bnana\", \"wxyz\"는 모두 \"banana\"의 부분 문자열이 아닙니다.\n",
    "문자열 `my_string`과 `target`이 매개변수로 주어질 때, `target`이 문자열 `my_string`의 부분 문자열이라면 1을, 아니라면 0을 return 하는 solution 함수를 작성해 주세요."
   ]
  },
  {
   "cell_type": "code",
   "execution_count": 1,
   "id": "c215e395-e185-4c4f-b8d3-5a260a66f9f0",
   "metadata": {},
   "outputs": [
    {
     "data": {
      "text/plain": [
       "1"
      ]
     },
     "execution_count": 1,
     "metadata": {},
     "output_type": "execute_result"
    }
   ],
   "source": [
    "def solution(my_string, target):\n",
    "        return 1 if target in my_string else 0\n",
    "\n",
    "solution(\"banana\", \"ana\")"
   ]
  },
  {
   "cell_type": "code",
   "execution_count": null,
   "id": "c723242c-8a8a-452f-b02c-2105da4be420",
   "metadata": {},
   "outputs": [],
   "source": []
  },
  {
   "cell_type": "markdown",
   "id": "3c6285ca-cd33-491c-8584-04063b75fb9e",
   "metadata": {},
   "source": [
    "### 글자 이어 붙여 문자열 만들기 (181915)\n",
    "문제: 문자열 my_string과 정수 배열 index_list가 매개변수로 주어집니다. my_string의 index_list의 원소들에 해당하는 인덱스의 글자들을 순서대로 이어 붙인 문자열을 return 하는 solution 함수를 작성해 주세요."
   ]
  },
  {
   "cell_type": "code",
   "execution_count": 2,
   "id": "d60589c5-874e-4061-a651-7a6e0dcc056b",
   "metadata": {},
   "outputs": [
    {
     "data": {
      "text/plain": [
       "'programmers'"
      ]
     },
     "execution_count": 2,
     "metadata": {},
     "output_type": "execute_result"
    }
   ],
   "source": [
    "def solution(my_string, index_list):\n",
    "    result = ''\n",
    "    for idx in index_list:\n",
    "        result += my_string[idx]\n",
    "    return result\n",
    "\n",
    "solution(\"cvsgiorszzzmrpaqpe\", [16, 6, 5, 3, 12, 14, 11, 11, 17, 12, 7])"
   ]
  },
  {
   "cell_type": "code",
   "execution_count": null,
   "id": "87c54188-a3ff-4c9c-9366-e3837de9eb9b",
   "metadata": {},
   "outputs": [],
   "source": []
  },
  {
   "cell_type": "markdown",
   "id": "29744dc9-72ee-4e83-b731-e81dd7bc6723",
   "metadata": {},
   "source": [
    "### 조건에 맞게 수열 변환하기 3 (181835)\n",
    "문제: 정수 배열 `arr`와 자연수 `k`가 주어집니다.\n",
    "만약 `k`가 홀수라면 `arr`의 모든 원소에 `k`를 곱하고, `k`가 짝수라면 `arr`의 모든 원소에 `k`를 더합니다.\n",
    "이러한 변환을 마친 후의 `arr`를 return 하는 solution 함수를 완성해 주세요."
   ]
  },
  {
   "cell_type": "code",
   "execution_count": 3,
   "id": "6b8c224d-19d4-4b27-8297-ac69778e8018",
   "metadata": {},
   "outputs": [
    {
     "data": {
      "text/plain": [
       "[3, 6, 9, 300, 297, 294]"
      ]
     },
     "execution_count": 3,
     "metadata": {},
     "output_type": "execute_result"
    }
   ],
   "source": [
    "def solution(arr, k):\n",
    "    result = []\n",
    "    for i in arr:\n",
    "        if k % 2 == 1:\n",
    "            result.append(i*k)\n",
    "        else:\n",
    "            result.append(i+k)\n",
    "    return result\n",
    "\n",
    "solution([1, 2, 3, 100, 99, 98], 3)"
   ]
  },
  {
   "cell_type": "code",
   "execution_count": null,
   "id": "1f6bfd21-1bcb-4a6a-8936-47316f434a1f",
   "metadata": {},
   "outputs": [],
   "source": []
  },
  {
   "cell_type": "markdown",
   "id": "aee568d1-59f6-47f0-adf3-99b537109531",
   "metadata": {},
   "source": [
    "### 수열과 구간쿼리 3 (181924)\n",
    "문제: 정수 배열 arr와 2차원 정수 배열 queries이 주어집니다. queries의 원소는 각각 하나의 query를 나타내며, [i, j] 꼴입니다.\n",
    "\n",
    "각 query마다 순서대로 arr[i]의 값과 arr[j]의 값을 서로 바꿉니다.\n",
    "\n",
    "위 규칙에 따라 queries를 처리한 이후의 arr를 return 하는 solution 함수를 완성해 주세요."
   ]
  },
  {
   "cell_type": "code",
   "execution_count": 7,
   "id": "c60c67cd-0fdc-4cad-83a6-7bd55fa8e058",
   "metadata": {},
   "outputs": [
    {
     "data": {
      "text/plain": [
       "[3, 4, 1, 0, 2]"
      ]
     },
     "execution_count": 7,
     "metadata": {},
     "output_type": "execute_result"
    }
   ],
   "source": [
    "def solution(arr, queries):\n",
    "    for query in queries:\n",
    "        i, j = query            # query의 0번째, 1번째 값을 각각 i, j에 할당\n",
    "        arr[i], arr[j] = arr[j], arr[i]\n",
    "    return arr\n",
    "\n",
    "solution([0, 1, 2, 3, 4], [[0, 3],[1, 2],[1, 4]])"
   ]
  }
 ],
 "metadata": {
  "kernelspec": {
   "display_name": "Python 3 (ipykernel)",
   "language": "python",
   "name": "python3"
  },
  "language_info": {
   "codemirror_mode": {
    "name": "ipython",
    "version": 3
   },
   "file_extension": ".py",
   "mimetype": "text/x-python",
   "name": "python",
   "nbconvert_exporter": "python",
   "pygments_lexer": "ipython3",
   "version": "3.10.7"
  }
 },
 "nbformat": 4,
 "nbformat_minor": 5
}
