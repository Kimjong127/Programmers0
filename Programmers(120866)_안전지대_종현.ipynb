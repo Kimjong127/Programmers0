{
 "cells": [
  {
   "cell_type": "markdown",
   "id": "092a79c3-d7dd-42dd-a65e-9913ddc5061c",
   "metadata": {},
   "source": [
    "### 안전지대 (120866)\n",
    "문제 : 다음 그림과 같이 지뢰가 있는 지역과 지뢰에 인접한 위, 아래, 좌, 우 대각선 칸을 모두 위험지역으로 분류합니다.\n",
    "\n",
    "지뢰는 2차원 배열 board에 1로 표시되어 있고 board에는 지뢰가 매설 된 지역 1과, 지뢰가 없는 지역 0만 존재합니다.\n",
    "지뢰가 매설된 지역의 지도 board가 매개변수로 주어질 때, 안전한 지역의 칸 수를 return하도록 solution 함수를 완성해주세요."
   ]
  },
  {
   "cell_type": "code",
   "execution_count": 5,
   "id": "ab541aa4-d7c6-4c9a-a09d-21500144334b",
   "metadata": {},
   "outputs": [
    {
     "data": {
      "text/plain": [
       "16"
      ]
     },
     "execution_count": 5,
     "metadata": {},
     "output_type": "execute_result"
    }
   ],
   "source": [
    "from collections import deque\n",
    "\n",
    "def solution(board):\n",
    "    dx = [-1, 1, 0, 0, 1, 1, -1, -1]\n",
    "    dy = [0, 0, -1, 1, -1, 1, 1, -1]\n",
    "    length = len(board)\n",
    "    visited = [[False] * length for _ in range(length)]\n",
    "    \n",
    "    def bfs(x, y):\n",
    "        dq = deque()\n",
    "        dq.append((x, y))\n",
    "        while dq:\n",
    "            a, b = dq.popleft()\n",
    "            visited[a][b] = True\n",
    "            for i in range(8):\n",
    "                nx = dx[i] + a\n",
    "                ny = dy[i] + b\n",
    "                #위험지역으로 둬야함 \n",
    "                if 0 <= nx < length and 0 <= ny <length and not visited[nx][ny]:\n",
    "                    if board[nx][ny] == 1:\n",
    "                        dq.append((nx, ny))\n",
    "                    else:\n",
    "                        board[nx][ny] = 2                      #위험지역 처리 \n",
    "\n",
    "    for i in range(length):\n",
    "        for j in range(length):\n",
    "            if board[i][j] == 1:\n",
    "                bfs(i, j)\n",
    "    result = 0\n",
    "    for i in range(length):\n",
    "        result += board[i].count(0)\n",
    "    return result\n",
    "\n",
    "solution([[0, 0, 0, 0, 0], [0, 0, 0, 0, 0], [0, 0, 0, 0, 0], [0, 0, 1, 0, 0], [0, 0, 0, 0, 0]])"
   ]
  }
 ],
 "metadata": {
  "kernelspec": {
   "display_name": "Python 3 (ipykernel)",
   "language": "python",
   "name": "python3"
  },
  "language_info": {
   "codemirror_mode": {
    "name": "ipython",
    "version": 3
   },
   "file_extension": ".py",
   "mimetype": "text/x-python",
   "name": "python",
   "nbconvert_exporter": "python",
   "pygments_lexer": "ipython3",
   "version": "3.10.7"
  }
 },
 "nbformat": 4,
 "nbformat_minor": 5
}
