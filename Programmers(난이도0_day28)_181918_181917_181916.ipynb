{
 "cells": [
  {
   "cell_type": "markdown",
   "id": "186be885-9f96-445f-aef0-c883d8837518",
   "metadata": {},
   "source": [
    "### 배열 만들기 4 (181918)\n",
    "문제 : 정수 배열 `arr`가 주어집니다. `arr`를 이용해 새로운 배열 `stk`를 만드려고 합니다.\n",
    "\n",
    "변수 `i`를 만들어 초기값을 0으로 설정한 후 `i`가 `arr`의 길이보다 작으면 다음 작업을 반복합니다.\n",
    "\n",
    "- 만약 `stk`가 빈 배열이라면 `arr[i]`를 `stk`에 추가하고 `i`에 1을 더합니다.\n",
    "- `stk`에 원소가 있고, `stk`의 마지막 원소가 `arr[i]`보다 작으면 `arr[i]`를 `stk`의 뒤에 추가하고 `i`에 1을 더합니다.\n",
    "- `stk`에 원소가 있는데 `stk`의 마지막 원소가 `arr[i]`보다 크거나 같으면 `stk`의 마지막 원소를 `stk`에서 제거합니다.\n",
    "\n",
    "위 작업을 마친 후 만들어진 `stk`를 return 하는 solution 함수를 완성해 주세요."
   ]
  },
  {
   "cell_type": "code",
   "execution_count": 1,
   "id": "6550dc04-5f9a-4db2-bcc7-378d93e6cbff",
   "metadata": {},
   "outputs": [
    {
     "data": {
      "text/plain": [
       "[1, 2, 3]"
      ]
     },
     "execution_count": 1,
     "metadata": {},
     "output_type": "execute_result"
    }
   ],
   "source": [
    "def solution(arr):\n",
    "    i = 0\n",
    "    stk = []\n",
    "    while i < len(arr):            # arr의 길이가 i보다 작을 동안 while문 반복\n",
    "        if not stk:                # stk 배열에 아무것도 없을 경우\n",
    "            stk.append(arr[i])     # stk 배열에 arr[i]를 추가하고, i에 1을 더해줌\n",
    "            i += 1\n",
    "        elif stk[-1] < arr[i]:     # stk 배열 마지막 값이 arr[i]보다 작은 경우\n",
    "            stk.append(arr[i])     # stk에 arr[i]를 마지막에 넣어주고 i에 1을 더함\n",
    "            i += 1\n",
    "        elif stk[-1] >= arr[i]:    # stk의 마지막 값이 arr[i]보다 크거나 같을 경우\n",
    "            stk.pop()              # stk의 마지막 값을 빼줌\n",
    "    return stk\n",
    "\n",
    "solution([1, 4, 2, 5, 3])"
   ]
  },
  {
   "cell_type": "code",
   "execution_count": null,
   "id": "d5450457-539f-4f85-b880-f7febc9376fd",
   "metadata": {},
   "outputs": [],
   "source": []
  },
  {
   "cell_type": "markdown",
   "id": "10ad65fe-e641-4acb-98c1-d83741d7ae11",
   "metadata": {},
   "source": [
    "### 간단한 논리 연산 (181917)\n",
    "문제 : boolean 변수 x1, x2, x3, x4가 매개변수로 주어질 때, 다음의 식의 true/false를 return 하는 solution 함수를 작성해 주세요.\n",
    "\n",
    "- (x1 ∨ x2) ∧ (x3 ∨ x4)"
   ]
  },
  {
   "cell_type": "code",
   "execution_count": 2,
   "id": "ed0e0990-76bc-4c4b-84d7-61c1b5b222e4",
   "metadata": {},
   "outputs": [
    {
     "data": {
      "text/plain": [
       "True"
      ]
     },
     "execution_count": 2,
     "metadata": {},
     "output_type": "execute_result"
    }
   ],
   "source": [
    "def solution(x1, x2, x3, x4):\n",
    "    return (x1 or x2) and (x3 or x4)   # or 연산자를 사용하여 둘 중에 하나라도 T가 있으면 T를 반환, 둘 다 F인 경우 F를 반환\n",
    "                                       # and 연산자의 경우 T, T인 경우 T를 반환, F, F인경우 F를 반환하고, 하나라도 다른 값이 있으면 F를 반환한다.\n",
    "solution(False, True, True, True)"
   ]
  },
  {
   "cell_type": "code",
   "execution_count": 4,
   "id": "530d7261-ea09-4e9d-947b-0dadecc483d5",
   "metadata": {},
   "outputs": [
    {
     "data": {
      "text/plain": [
       "False"
      ]
     },
     "execution_count": 4,
     "metadata": {},
     "output_type": "execute_result"
    }
   ],
   "source": [
    "solution(True, False, False, False)"
   ]
  },
  {
   "cell_type": "code",
   "execution_count": null,
   "id": "6c3bfa37-5818-4e0b-8bba-49acbe59aa5b",
   "metadata": {},
   "outputs": [],
   "source": []
  },
  {
   "cell_type": "markdown",
   "id": "d4c70de9-5913-488f-b6a0-0334e45921a0",
   "metadata": {
    "tags": []
   },
   "source": [
    "### 주사위 게임 3 (181916)\n",
    "문제 : 1부터 6까지 숫자가 적힌 주사위가 네 개 있습니다. 네 주사위를 굴렸을 때 나온 숫자에 따라 다음과 같은 점수를 얻습니다.\n",
    "\n",
    "- 네 주사위에서 나온 숫자가 모두 p로 같다면 1111 × p점을 얻습니다.\n",
    "- 세 주사위에서 나온 숫자가 p로 같고 나머지 다른 주사위에서 나온 숫자가 q(p ≠ q)라면 (10 × p + q)2 점을 얻습니다.\n",
    "- 주사위가 두 개씩 같은 값이 나오고, 나온 숫자를 각각 p, q(p ≠ q)라고 한다면 (p + q) × |p - q|점을 얻습니다.\n",
    "- 어느 두 주사위에서 나온 숫자가 p로 같고 나머지 두 주사위에서 나온 숫자가 각각 p와 다른 q, r(q ≠ r)이라면 q × r점을 얻습니다.\n",
    "- 네 주사위에 적힌 숫자가 모두 다르다면 나온 숫자 중 가장 작은 숫자 만큼의 점수를 얻습니다.\n",
    "\n",
    "네 주사위를 굴렸을 때 나온 숫자가 정수 매개변수 a, b, c, d로 주어질 때, 얻는 점수를 return 하는 solution 함수를 작성해 주세요."
   ]
  },
  {
   "cell_type": "code",
   "execution_count": 11,
   "id": "09f96f5b-7fb2-4a6b-9295-b9158aa326b4",
   "metadata": {},
   "outputs": [
    {
     "data": {
      "text/plain": [
       "2"
      ]
     },
     "execution_count": 11,
     "metadata": {},
     "output_type": "execute_result"
    }
   ],
   "source": [
    "from collections import Counter\n",
    "\n",
    "def solution(a, b, c, d):\n",
    "    counts = Counter([a, b, c, d])           # Counter 함수로 각 숫자 별 출현 빈도 \n",
    "    most_common = counts.most_common()       # 가장 빈도 수가 높은 숫자를 변수에 저장\n",
    "    \n",
    "    if most_common[0][1] == 4:               # 가장 빈도 수가 높은 숫자의 빈도수가 4, 즉 a, b, c, d 숫자가 모두 같은 경우\n",
    "        return 1111 * most_common[0][0]\n",
    "    elif most_common[0][1] == 3:             # 3개의 숫자가 같고, 1개의 숫자가 다르게 나왔을 경우\n",
    "        return (10 * most_common[0][0] + most_common[1][0]) ** 2\n",
    "    elif most_common[0][1] == 2 and most_common[1][1] == 2:     # 2개씩 같은 숫자가 나왔을 경우\n",
    "        p, q = most_common[0][0], most_common[1][0]\n",
    "        return (p + q) * abs(p - q)\n",
    "    elif most_common[0][1] == 2:             # 두 주사위에서 나온 숫자가 같은 경우\n",
    "        q, r = most_common[1][0], most_common[2][0]\n",
    "        return q * r\n",
    "    elif most_common[0][1] == 1:             # 4개의 주사위 숫자가 모두 다를 경우\n",
    "        return min(a, b, c, d)\n",
    "    \n",
    "solution(6, 4, 2, 5)"
   ]
  }
 ],
 "metadata": {
  "kernelspec": {
   "display_name": "Python 3 (ipykernel)",
   "language": "python",
   "name": "python3"
  },
  "language_info": {
   "codemirror_mode": {
    "name": "ipython",
    "version": 3
   },
   "file_extension": ".py",
   "mimetype": "text/x-python",
   "name": "python",
   "nbconvert_exporter": "python",
   "pygments_lexer": "ipython3",
   "version": "3.10.7"
  }
 },
 "nbformat": 4,
 "nbformat_minor": 5
}
