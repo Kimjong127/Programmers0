{
 "cells": [
  {
   "cell_type": "markdown",
   "id": "a1e72576-9a68-4189-9065-3bb9fb7442c6",
   "metadata": {},
   "source": [
    "### 문자열의 뒤의 n글자 (181910)\n",
    "문제 : 문자열 my_string과 정수 n이 매개변수로 주어질 때, my_string의 뒤의 n글자로 이루어진 문자열을 return 하는 solution 함수를 작성해 주세요."
   ]
  },
  {
   "cell_type": "code",
   "execution_count": 20,
   "id": "5ae83ea1-7fe4-4365-8be2-7d0488d1c019",
   "metadata": {},
   "outputs": [
    {
     "data": {
      "text/plain": [
       "'grammerS123'"
      ]
     },
     "execution_count": 20,
     "metadata": {},
     "output_type": "execute_result"
    }
   ],
   "source": [
    "def solution(my_string, n):\n",
    "    result = [s for s in my_string[::-1]]        # my_string을 뒤바꾼 result\n",
    "    return ''.join([j for j in result[n-1::-1]]) # result를 n-1부터 거꾸로 다시 return\n",
    "\n",
    "solution(\"ProgrammerS123\", 11)"
   ]
  },
  {
   "cell_type": "code",
   "execution_count": null,
   "id": "8d4e143c-2cd7-49d1-9568-6838b6dca883",
   "metadata": {},
   "outputs": [],
   "source": []
  },
  {
   "cell_type": "markdown",
   "id": "691089bb-21a1-4b63-832f-4799a8434b51",
   "metadata": {},
   "source": [
    "### 조건에 맞게 수열 변환하기 1 (181882)\n",
    "문제 : 정수 배열 arr가 주어집니다. arr의 각 원소에 대해 값이 50 이상이거나 같은 짝수라면 2로 나누고, 50보다 작은 홀수라면 2를 곱합니다. 그 결과인 정수 배열을 return 하는 solution 함수를 완성해 주세요."
   ]
  },
  {
   "cell_type": "code",
   "execution_count": 28,
   "id": "82f8e645-3fa2-423e-b0a9-8595ca46e245",
   "metadata": {},
   "outputs": [
    {
     "data": {
      "text/plain": [
       "[2, 2, 6, 50, 99, 49]"
      ]
     },
     "execution_count": 28,
     "metadata": {},
     "output_type": "execute_result"
    }
   ],
   "source": [
    "def solution(arr):\n",
    "    for i in range(len(arr)):\n",
    "        if (arr[i] >= 50) and (arr[i]%2==0):\n",
    "            arr[i] = arr[i]//2\n",
    "        elif (arr[i] < 50) and (arr[i]%2==1):\n",
    "            arr[i] = arr[i]*2\n",
    "    return arr\n",
    "\n",
    "solution([1, 2, 3, 100, 99, 98])"
   ]
  },
  {
   "cell_type": "code",
   "execution_count": null,
   "id": "b8178561-15c6-4558-8648-90de61f043a0",
   "metadata": {},
   "outputs": [],
   "source": []
  },
  {
   "cell_type": "markdown",
   "id": "e79d9b82-d15a-42e0-bedf-f504dee0e9d9",
   "metadata": {},
   "source": [
    "### 공백으로 구분하기 2 (181868)\n",
    "문제 : 단어가 공백 한 개 이상으로 구분되어 있는 문자열 my_string이 매개변수로 주어질 때, my_string에 나온 단어를 앞에서부터 순서대로 담은 문자열 배열을 return 하는 solution 함수를 작성해 주세요."
   ]
  },
  {
   "cell_type": "code",
   "execution_count": 34,
   "id": "eb13150c-3dab-4447-891d-fbe2a7c35050",
   "metadata": {},
   "outputs": [
    {
     "data": {
      "text/plain": [
       "[['i', 'love', 'you']]"
      ]
     },
     "execution_count": 34,
     "metadata": {},
     "output_type": "execute_result"
    }
   ],
   "source": [
    "def solution(my_string):\n",
    "    return my_string.split()\n",
    "\n",
    "solution(\" i    love  you\")"
   ]
  },
  {
   "cell_type": "code",
   "execution_count": null,
   "id": "1dbccec9-edc9-42fb-91dc-deb65cbc1787",
   "metadata": {},
   "outputs": [],
   "source": []
  },
  {
   "cell_type": "markdown",
   "id": "78ee0905-acf3-434e-b43c-e7475eac1c3d",
   "metadata": {},
   "source": [
    "### 배열 비교하기 (181856)\n",
    "문제: 이 문제에서 두 정수 배열의 대소관계를 다음과 같이 정의합니다.\n",
    "- 두 배열의 길이가 다르다면, 배열의 길이가 긴 쪽이 더 큽니다.\n",
    "- 배열의 길이가 같다면 각 배열에 있는 모든 원소의 합을 비교하여 다르다면 더 큰 쪽이 크고, 같다면 같습니다.\n",
    "\n",
    "두 정수 배열 arr1과 arr2가 주어질 때, 위에서 정의한 배열의 대소관계에 대하여 arr2가 크다면 -1, arr1이 크다면 1, 두 배열이 같다면 0을 return 하는 solution 함수를 작성해 주세요."
   ]
  },
  {
   "cell_type": "code",
   "execution_count": 11,
   "id": "fbc4277e-0f7b-4bb2-b5fb-1f450b966146",
   "metadata": {},
   "outputs": [
    {
     "data": {
      "text/plain": [
       "1"
      ]
     },
     "execution_count": 11,
     "metadata": {},
     "output_type": "execute_result"
    }
   ],
   "source": [
    "def solution(arr1, arr2):\n",
    "    if len(arr1) != len(arr2):\n",
    "        if max(len(arr1), len(arr2)) == len(arr1):    # arr1과 arr2의 배열 길이 중 가장 큰 값이 len(arr1)과 같다면\n",
    "            return 1\n",
    "        else:\n",
    "            return -1\n",
    "    else:                                             # 두 배열의 길이가 같은 경우\n",
    "        if sum(arr1) == sum(arr2):                    # 두 배열 각 원소의 합이 같으면 \n",
    "            return 0                                  # 0을 return\n",
    "        elif max(sum(arr1), sum(arr2)) == sum(arr1):  # 두 배열 각 원소의 합 중 가장 큰 수가 arr1의 원소들의 합과 같으면\n",
    "            return 1\n",
    "        else:\n",
    "            return -1\n",
    "        \n",
    "solution([100, 17, 84, 1], [55, 12, 65, 36])"
   ]
  }
 ],
 "metadata": {
  "kernelspec": {
   "display_name": "Python 3 (ipykernel)",
   "language": "python",
   "name": "python3"
  },
  "language_info": {
   "codemirror_mode": {
    "name": "ipython",
    "version": 3
   },
   "file_extension": ".py",
   "mimetype": "text/x-python",
   "name": "python",
   "nbconvert_exporter": "python",
   "pygments_lexer": "ipython3",
   "version": "3.10.7"
  }
 },
 "nbformat": 4,
 "nbformat_minor": 5
}
