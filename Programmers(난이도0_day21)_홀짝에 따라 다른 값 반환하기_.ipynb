{
 "cells": [
  {
   "cell_type": "markdown",
   "id": "853d6dca-2d86-4ce9-ab37-edaf28dff122",
   "metadata": {},
   "source": [
    "### 홀짝에 따라 다른 값 반환하기 (181935)\n",
    "문제 : 양의 정수 n이 매개변수로 주어질 때, n이 홀수라면 n 이하의 홀수인 모든 양의 정수의 합을 return 하고 n이 짝수라면 n 이하의 짝수인 모든 양의 정수의 제곱의 합을 return 하는 solution 함수를 작성해 주세요."
   ]
  },
  {
   "cell_type": "code",
   "execution_count": 1,
   "id": "3339a441-cf36-4658-a67b-0b89dcca1994",
   "metadata": {},
   "outputs": [
    {
     "data": {
      "text/plain": [
       "16"
      ]
     },
     "execution_count": 1,
     "metadata": {},
     "output_type": "execute_result"
    }
   ],
   "source": [
    "import math\n",
    "def solution(n):\n",
    "    if n%2 == 1:\n",
    "        return sum(range(1, n+1, 2))\n",
    "    elif n%2 == 0:\n",
    "        return sum([i**2 for i in range(2, n+1, 2)])\n",
    "    \n",
    "solution(7)"
   ]
  },
  {
   "cell_type": "code",
   "execution_count": null,
   "id": "c725f481-ec1f-4a88-b67c-f4dd2f0d9d53",
   "metadata": {},
   "outputs": [],
   "source": []
  },
  {
   "cell_type": "markdown",
   "id": "71122aa0-9597-4258-b74b-f8a5f3cce4d3",
   "metadata": {},
   "source": [
    "### flag에 따라 다른 값 반환하기 (181933)\n",
    "문제 : 두 정수 a, b와 boolean 변수 flag가 매개변수로 주어질 때, flag가 true면 a + b를 false면 a - b를 return 하는 solution 함수를 작성해 주세요."
   ]
  },
  {
   "cell_type": "code",
   "execution_count": 3,
   "id": "50621ce9-ed25-4b2b-8364-2434d4bbed4a",
   "metadata": {},
   "outputs": [
    {
     "data": {
      "text/plain": [
       "3"
      ]
     },
     "execution_count": 3,
     "metadata": {},
     "output_type": "execute_result"
    }
   ],
   "source": [
    "def solution(a, b, flag):\n",
    "    if flag == True:\n",
    "        return a + b\n",
    "    else:\n",
    "        return a - b\n",
    "    \n",
    "solution(-4, 7, True)"
   ]
  },
  {
   "cell_type": "code",
   "execution_count": null,
   "id": "46f51702-36cd-42a2-ad89-4d836589b262",
   "metadata": {},
   "outputs": [],
   "source": []
  },
  {
   "cell_type": "markdown",
   "id": "b5564c59-0abb-4d77-91b5-6139f44752b0",
   "metadata": {},
   "source": [
    "### 공배수 (181936)\n",
    "문제 : 정수 number와 n, m이 주어집니다. number가 n의 배수이면서 m의 배수이면 1을 아니라면 0을 return하도록 solution 함수를 완성해주세요."
   ]
  },
  {
   "cell_type": "code",
   "execution_count": 4,
   "id": "6acec79c-269f-45af-a296-009d1ac966b8",
   "metadata": {},
   "outputs": [
    {
     "data": {
      "text/plain": [
       "1"
      ]
     },
     "execution_count": 4,
     "metadata": {},
     "output_type": "execute_result"
    }
   ],
   "source": [
    "def solution(number, n, m):\n",
    "    return 1 if (number%n == 0) and (number%m == 0) else 0\n",
    "\n",
    "solution(60, 2, 3)"
   ]
  },
  {
   "cell_type": "code",
   "execution_count": null,
   "id": "504a85d3-05b1-44dc-ba32-7da0aaa83b3a",
   "metadata": {},
   "outputs": [],
   "source": []
  },
  {
   "cell_type": "markdown",
   "id": "9875ac50-c629-48b2-9f0d-182174e91e42",
   "metadata": {},
   "source": [
    "### 첫 번째로 나오는 음수 (181896)\n",
    "문제 : 정수 리스트 num_list가 주어질 때, 첫 번째로 나오는 음수의 인덱스를 return하도록 solution 함수를 완성해주세요. 음수가 없다면 -1을 return합니다."
   ]
  },
  {
   "cell_type": "code",
   "execution_count": 16,
   "id": "8a8c5957-4cef-4ad1-8329-cd07daf5a8d0",
   "metadata": {},
   "outputs": [
    {
     "data": {
      "text/plain": [
       "5"
      ]
     },
     "execution_count": 16,
     "metadata": {},
     "output_type": "execute_result"
    }
   ],
   "source": [
    "def solution(num_list):\n",
    "    return num_list.index(min(num_list)) if sorted(num_list)[0] < 0 else -1\n",
    "\n",
    "solution([12, 4, 15, 46, 38, -2, 15])"
   ]
  },
  {
   "cell_type": "code",
   "execution_count": 30,
   "id": "24721500-f8d6-43ac-9703-7d0e3a9b7417",
   "metadata": {},
   "outputs": [
    {
     "data": {
      "text/plain": [
       "5"
      ]
     },
     "execution_count": 30,
     "metadata": {},
     "output_type": "execute_result"
    }
   ],
   "source": [
    "def solution(num_list):\n",
    "    li = []\n",
    "    for i in num_list:\n",
    "        if i < 0:\n",
    "            li.append(i)\n",
    "    if len(li) == 0:\n",
    "        return -1\n",
    "    else:\n",
    "        return num_list.index(li[0])\n",
    "        \n",
    "solution([12, 4, 15, 46, 38, -2, 15])"
   ]
  },
  {
   "cell_type": "code",
   "execution_count": 3,
   "id": "06b47b4f-1694-4395-823d-9829069a1a5a",
   "metadata": {},
   "outputs": [
    {
     "data": {
      "text/plain": [
       "2.59e-05"
      ]
     },
     "execution_count": 3,
     "metadata": {},
     "output_type": "execute_result"
    }
   ],
   "source": []
  }
 ],
 "metadata": {
  "kernelspec": {
   "display_name": "Python 3 (ipykernel)",
   "language": "python",
   "name": "python3"
  },
  "language_info": {
   "codemirror_mode": {
    "name": "ipython",
    "version": 3
   },
   "file_extension": ".py",
   "mimetype": "text/x-python",
   "name": "python",
   "nbconvert_exporter": "python",
   "pygments_lexer": "ipython3",
   "version": "3.10.7"
  }
 },
 "nbformat": 4,
 "nbformat_minor": 5
}
