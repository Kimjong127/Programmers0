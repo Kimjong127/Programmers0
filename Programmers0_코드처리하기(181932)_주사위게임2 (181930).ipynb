{
 "cells": [
  {
   "cell_type": "markdown",
   "id": "51415881-c758-4f38-86a8-d4991d73fbee",
   "metadata": {},
   "source": [
    "### 코드 처리하기 (181932)\n",
    "문제 : 문자열 code가 주어집니다.\n",
    "code를 앞에서부터 읽으면서 만약 문자가 \"1\"이면 mode를 바꿉니다. mode에 따라 code를 읽어가면서 문자열 ret을 만들어냅니다.\n",
    "\n",
    "mode는 0과 1이 있으며, idx를 0 부터 code의 길이 - 1 까지 1씩 키워나가면서 code[idx]의 값에 따라 다음과 같이 행동합니다.\n",
    "\n",
    "mode가 0일 때\n",
    "code[idx]가 \"1\"이 아니면 idx가 짝수일 때만 ret의 맨 뒤에 code[idx]를 추가합니다.\n",
    "code[idx]가 \"1\"이면 mode를 0에서 1로 바꿉니다.\n",
    "mode가 1일 때\n",
    "code[idx]가 \"1\"이 아니면 idx가 홀수일 때만 ret의 맨 뒤에 code[idx]를 추가합니다.\n",
    "code[idx]가 \"1\"이면 mode를 1에서 0으로 바꿉니다.\n",
    "문자열 code를 통해 만들어진 문자열 ret를 return 하는 solution 함수를 완성해 주세요.\n",
    "\n",
    "단, 시작할 때 mode는 0이며, return 하려는 ret가 만약 빈 문자열이라면 대신 \"EMPTY\"를 return 합니다."
   ]
  },
  {
   "cell_type": "code",
   "execution_count": 12,
   "id": "fb6a8134-6737-4db3-aad0-43b125cef228",
   "metadata": {},
   "outputs": [
    {
     "data": {
      "text/plain": [
       "'acbac'"
      ]
     },
     "execution_count": 12,
     "metadata": {},
     "output_type": "execute_result"
    }
   ],
   "source": [
    "def solution(code):\n",
    "    mode = 0\n",
    "    ret = ''\n",
    "    \n",
    "    for idx in range(len(code)):\n",
    "        if code[idx] == '1':                   # 반복문으로 code를 돌며 '1'일 경우\n",
    "            mode = (mode + 1) % 2              # mode를 0 또는 1로 바꾼다.\n",
    "        else:\n",
    "            if mode == 0 and idx % 2 == 0:     # mode가 0이고 idx값이 짝수일 경우\n",
    "                ret += code[idx]               # code의 짝수인 idx의 index값을 ret문자열에 더해줌\n",
    "            elif mode == 1 and idx % 2 == 1:   # mode가 0이고 idx값이 홀수일 경우\n",
    "                ret += code[idx]               # code의 홀수인 idx의 index값을 ret문자열에 더해줌\n",
    "    if ret == '':\n",
    "        ret = 'EMPTY'                          # ret가 빈 문자열일 경우 'EMPTY' return\n",
    "        \n",
    "    return ret\n",
    "\n",
    "solution(\"abc1abc1abc\")"
   ]
  },
  {
   "cell_type": "code",
   "execution_count": null,
   "id": "d6d9462e-192b-4c18-ac92-e9b6fbfebf2b",
   "metadata": {},
   "outputs": [],
   "source": [
    "# 다른 사람의 문제풀이\n",
    "\n",
    "def solution(code):\n",
    "    return \"\".join(code.split(\"1\"))[::2] or \"EMPTY\"   # code를 '1'로 split하여 2step으로 문자열을 join함 "
   ]
  },
  {
   "cell_type": "code",
   "execution_count": 2,
   "id": "3cbf4b9f-320a-4815-b09a-856965641372",
   "metadata": {},
   "outputs": [],
   "source": [
    "code = \"abc1abc1abc\""
   ]
  },
  {
   "cell_type": "code",
   "execution_count": 3,
   "id": "2c12077e-51f4-4fb9-8137-50fac235079c",
   "metadata": {},
   "outputs": [],
   "source": [
    "a=[i for i in range(len(code)) if i % 2 == 0] \n",
    "b=[i for i in range(len(code)) if i % 2 == 1]"
   ]
  },
  {
   "cell_type": "code",
   "execution_count": 10,
   "id": "98e25861-1d70-4150-b7ac-b6229ca6d82c",
   "metadata": {},
   "outputs": [
    {
     "data": {
      "text/plain": [
       "[0, 2, 4, 6, 8, 10]"
      ]
     },
     "execution_count": 10,
     "metadata": {},
     "output_type": "execute_result"
    }
   ],
   "source": [
    "a"
   ]
  },
  {
   "cell_type": "code",
   "execution_count": null,
   "id": "8b3fd618-8e83-4d7c-b4c4-29048251ba81",
   "metadata": {},
   "outputs": [],
   "source": []
  },
  {
   "cell_type": "markdown",
   "id": "50e10cd8-dcb9-4b23-84bf-7fa9653a8bf0",
   "metadata": {},
   "source": [
    "### 조건 문자열 (181934)\n",
    "문제 : 문자열에 따라 다음과 같이 두 수의 크기를 비교하려고 합니다.\n",
    "- 두 수가 n과 m이라면\n",
    "  - \">\", \"=\" : n >= m\n",
    "  - \"<\", \"=\" : n <= m\n",
    "  - \">\", \"!\" : n > m\n",
    "  - \"<\", \"!\" : n < m\n",
    "\n",
    "두 문자열 ineq와 eq가 주어집니다. ineq는 \"<\"와 \">\"중 하나고, eq는 \"=\"와 \"!\"중 하나입니다. 그리고 두 정수 n과 m이 주어질 때, n과 m이 ineq와 eq의 조건에 맞으면 1을 아니면 0을 return하도록 solution 함수를 완성해주세요."
   ]
  },
  {
   "cell_type": "code",
   "execution_count": 25,
   "id": "b99a6bcd-236c-4617-bf95-d23d55dde17a",
   "metadata": {},
   "outputs": [
    {
     "data": {
      "text/plain": [
       "1"
      ]
     },
     "execution_count": 25,
     "metadata": {},
     "output_type": "execute_result"
    }
   ],
   "source": [
    "def solution(ineq, eq, n, m):\n",
    "    if ineq == '<' and eq == '=':\n",
    "        return int(n <= m)                 # 결과값 True, False를 int로 형변환하여 0 or 1로 return\n",
    "    elif ineq == '>' and eq == '=':\n",
    "        return int(n >= m)\n",
    "    elif ineq == '<' and eq == '!':\n",
    "        return int(n < m)\n",
    "    elif ineq == '>' and eq == '!':\n",
    "        return int(n > m)\n",
    "        \n",
    "solution(\"<\",\"=\", 20, 50)"
   ]
  },
  {
   "cell_type": "code",
   "execution_count": null,
   "id": "c3c25f80-e4ea-4c6d-aa7b-d783fa093fa1",
   "metadata": {},
   "outputs": [],
   "source": [
    "# 다른 사람의 문제 풀이\n",
    "\n",
    "def solution(ineq, eq, n, m):\n",
    "    return int(eval(str(n)+ineq+eq.replace('!', '')+str(m)))  # '!'을 replace로 빈문자열로 만들고 eval함수를 사용해 문자열끼리의 연산을 하도록 했다."
   ]
  },
  {
   "cell_type": "code",
   "execution_count": 23,
   "id": "aff76306-bf7f-4174-aa3a-ac4ba61b11d8",
   "metadata": {
    "tags": []
   },
   "outputs": [
    {
     "data": {
      "text/plain": [
       "1"
      ]
     },
     "execution_count": 23,
     "metadata": {},
     "output_type": "execute_result"
    }
   ],
   "source": [
    "int(bool('='))"
   ]
  },
  {
   "cell_type": "code",
   "execution_count": null,
   "id": "56f10dba-f519-481f-a269-460b052d51aa",
   "metadata": {},
   "outputs": [],
   "source": []
  },
  {
   "cell_type": "markdown",
   "id": "c52ed93d-61ee-4ff2-8dc2-fd47928f8063",
   "metadata": {},
   "source": [
    "### 주사위 게임2 (181930)\n",
    "문제 : 1부터 6까지 숫자가 적힌 주사위가 세 개 있습니다. 세 주사위를 굴렸을 때 나온 숫자를 각각 a, b, c라고 했을 때 얻는 점수는 다음과 같습니다.\n",
    "- 세 숫자가 모두 다르다면 a + b + c 점을 얻습니다.\n",
    "- 세 숫자 중 어느 두 숫자는 같고 나머지 다른 숫자는 다르다면 (a + b + c) × (a2 + b2 + c2 )점을 얻습니다.\n",
    "- 세 숫자가 모두 같다면 (a + b + c) × (a2 + b2 + c2 ) × (a3 + b3 + c3 )점을 얻습니다.\n",
    "\n",
    "세 정수 a, b, c가 매개변수로 주어질 때, 얻는 점수를 return 하는 solution 함수를 작성해 주세요."
   ]
  },
  {
   "cell_type": "code",
   "execution_count": 33,
   "id": "761734c7-b4f3-41c6-9ee0-3eee00274bf7",
   "metadata": {},
   "outputs": [
    {
     "data": {
      "text/plain": [
       "473"
      ]
     },
     "execution_count": 33,
     "metadata": {},
     "output_type": "execute_result"
    }
   ],
   "source": [
    "def solution(a, b, c):\n",
    "    if len(set([a, b, c])) == 3:    # 리스트 a, b, c를 set함수를 사용하여 길이를 구함\n",
    "        return a+b+c\n",
    "    elif len(set([a, b, c])) == 2:\n",
    "        return (a+b+c)*(a**2 + b**2 + c**2)\n",
    "    elif len(set([a, b, c])) == 1:\n",
    "        return (a+b+c)*(a**2 + b**2 + c**2)*(a**3 + b**3 + c**3)\n",
    "    \n",
    "solution(5, 3, 3)"
   ]
  },
  {
   "cell_type": "code",
   "execution_count": 29,
   "id": "2ad7d30c-2869-423f-9422-5c53d5248d82",
   "metadata": {},
   "outputs": [
    {
     "data": {
      "text/plain": [
       "1"
      ]
     },
     "execution_count": 29,
     "metadata": {},
     "output_type": "execute_result"
    }
   ],
   "source": [
    "len(set([1, 1, 1]))"
   ]
  }
 ],
 "metadata": {
  "kernelspec": {
   "display_name": "Python 3 (ipykernel)",
   "language": "python",
   "name": "python3"
  },
  "language_info": {
   "codemirror_mode": {
    "name": "ipython",
    "version": 3
   },
   "file_extension": ".py",
   "mimetype": "text/x-python",
   "name": "python",
   "nbconvert_exporter": "python",
   "pygments_lexer": "ipython3",
   "version": "3.10.7"
  }
 },
 "nbformat": 4,
 "nbformat_minor": 5
}
