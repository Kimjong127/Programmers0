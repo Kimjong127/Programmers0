{
 "cells": [
  {
   "cell_type": "markdown",
   "id": "94c85aff-92f9-43f9-b651-d1df1b54e5fa",
   "metadata": {},
   "source": [
    "### 수열과 구간 쿼리2 (181923)\n",
    "문제: 정수 배열 arr와 2차원 정수 배열 queries이 주어집니다. queries의 원소는 각각 하나의 query를 나타내며, [s, e, k] 꼴입니다.\n",
    "\n",
    "각 query마다 순서대로 s ≤ i ≤ e인 모든 i에 대해 k보다 크면서 가장 작은 arr[i]를 찾습니다.\n",
    "\n",
    "각 쿼리의 순서에 맞게 답을 저장한 배열을 반환하는 solution 함수를 완성해 주세요.\n",
    "단, 특정 쿼리의 답이 존재하지 않으면 -1을 저장합니다."
   ]
  },
  {
   "cell_type": "code",
   "execution_count": 5,
   "id": "4166d0a6-7a96-4a0e-b672-79e335038683",
   "metadata": {},
   "outputs": [
    {
     "data": {
      "text/plain": [
       "[3, 4, -1]"
      ]
     },
     "execution_count": 5,
     "metadata": {},
     "output_type": "execute_result"
    }
   ],
   "source": [
    "def solution(arr, queries):\n",
    "    result = []\n",
    "    for query in queries:\n",
    "        s, e, k = query                                # query의 시작값, 끝값, k값 지정\n",
    "        temp = [num for num in arr[s:e+1] if num > k]  # arr의 시작부터 끝값에 1을 더한 값까지 반복문을 통해 k보다 큰 값들을 리스트로 저장\n",
    "        if temp:                                       # temp가 True인 경우(값이 있는 경우)\n",
    "            result.append(min(temp))                   # temp의 가장 작은 값을 result에 append\n",
    "        else:\n",
    "            result.append(-1)\n",
    "    return result\n",
    "\n",
    "solution([0, 1, 2, 4, 3], [[0, 4, 2],[0, 3, 2],[0, 2, 2]])"
   ]
  },
  {
   "cell_type": "code",
   "execution_count": null,
   "id": "fdbde9f3-172c-4b09-b83a-238b99d0913a",
   "metadata": {},
   "outputs": [],
   "source": []
  },
  {
   "cell_type": "markdown",
   "id": "cf7441c7-9769-4e69-81c3-8a6fd4256248",
   "metadata": {},
   "source": [
    "### n보다 커질 때까지 더하기 (181884)\n",
    "문제: 정수 배열 numbers와 정수 n이 매개변수로 주어집니다. numbers의 원소를 앞에서부터 하나씩 더하다가 그 합이 n보다 커지는 순간 이때까지 더했던 원소들의 합을 return 하는 solution 함수를 작성해 주세요."
   ]
  },
  {
   "cell_type": "code",
   "execution_count": 2,
   "id": "b5ba09f2-7158-4ba1-81a8-77d3cdbd5a7f",
   "metadata": {},
   "outputs": [
    {
     "data": {
      "text/plain": [
       "139"
      ]
     },
     "execution_count": 2,
     "metadata": {},
     "output_type": "execute_result"
    }
   ],
   "source": [
    "def solution(numbers, n):\n",
    "    total = 0\n",
    "    for num in numbers:\n",
    "        total += num\n",
    "        if total > n:\n",
    "            return total\n",
    "    return total\n",
    "\n",
    "solution([34, 5, 71, 29, 100, 34], 123)"
   ]
  },
  {
   "cell_type": "code",
   "execution_count": null,
   "id": "9d268af9-708f-4d33-8b23-081fb6f20c37",
   "metadata": {},
   "outputs": [],
   "source": []
  },
  {
   "cell_type": "markdown",
   "id": "6c18efc3-b22e-4dc3-bb1c-2cc107af9a6a",
   "metadata": {},
   "source": [
    "### 수열과 구간 쿼리 4 (181922)\n",
    "문제: 정수 배열 arr와 2차원 정수 배열 queries이 주어집니다. queries의 원소는 각각 하나의 query를 나타내며, [s, e, k] 꼴입니다.\n",
    "각 query마다 순서대로 s ≤ i ≤ e인 모든 i에 대해 i가 k의 배수이면 arr[i]에 1을 더합니다.\n",
    "위 규칙에 따라 queries를 처리한 이후의 arr를 return 하는 solution 함수를 완성해 주세요."
   ]
  },
  {
   "cell_type": "code",
   "execution_count": 13,
   "id": "833a6252-d464-47d8-a5ab-ba0e32324e86",
   "metadata": {},
   "outputs": [
    {
     "data": {
      "text/plain": [
       "[3, 2, 4, 6, 4]"
      ]
     },
     "execution_count": 13,
     "metadata": {},
     "output_type": "execute_result"
    }
   ],
   "source": [
    "def solution(arr, queries):\n",
    "    for query in queries:\n",
    "        s, e, k = query\n",
    "        for i in range(s, e+1):\n",
    "            if i % k == 0:\n",
    "                arr[i] += 1\n",
    "    return arr\n",
    "\n",
    "solution([0, 1, 2, 4, 3], [[0, 4, 1],[0, 3, 2],[0, 3, 3]])"
   ]
  },
  {
   "cell_type": "code",
   "execution_count": null,
   "id": "4c93b469-ca8d-49b1-9124-a3752b546843",
   "metadata": {},
   "outputs": [],
   "source": []
  },
  {
   "cell_type": "markdown",
   "id": "1d328773-ee45-47d0-956e-3963270f3a0f",
   "metadata": {},
   "source": [
    "### 배열 만들기 2 (181921)\n",
    "문제: 정수 l과 r이 주어졌을 때, l 이상 r이하의 정수 중에서 숫자 \"0\"과 \"5\"로만 이루어진 모든 정수를 오름차순으로 저장한 배열을 return 하는 solution 함수를 완성해 주세요.\n",
    "만약 그러한 정수가 없다면, -1이 담긴 배열을 return 합니다."
   ]
  },
  {
   "cell_type": "code",
   "execution_count": 23,
   "id": "5db4b1c5-7964-4e17-b1c1-210ca8b7732a",
   "metadata": {},
   "outputs": [
    {
     "data": {
      "text/plain": [
       "[5, 50, 55, 500, 505, 550, 555]"
      ]
     },
     "execution_count": 23,
     "metadata": {},
     "output_type": "execute_result"
    }
   ],
   "source": [
    "def solution(l, r):\n",
    "    result = []\n",
    "    for i in range(l, r+1):\n",
    "        if set(str(i)) <= {'0', '5'}:     # set함수를 이용하여 문자열로 변환한 i에 '0' 과 '5'가 포함되는지 확인\n",
    "            result.append(i)\n",
    "    return result if result else [-1]     # result에 값이 있는 경우 그대로 result return 아닐 경우(값이 없을 경우) -1 return\n",
    "        \n",
    "solution(5, 555)"
   ]
  }
 ],
 "metadata": {
  "kernelspec": {
   "display_name": "Python 3 (ipykernel)",
   "language": "python",
   "name": "python3"
  },
  "language_info": {
   "codemirror_mode": {
    "name": "ipython",
    "version": 3
   },
   "file_extension": ".py",
   "mimetype": "text/x-python",
   "name": "python",
   "nbconvert_exporter": "python",
   "pygments_lexer": "ipython3",
   "version": "3.10.7"
  }
 },
 "nbformat": 4,
 "nbformat_minor": 5
}
