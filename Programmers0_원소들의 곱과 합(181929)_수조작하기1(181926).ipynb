{
 "cells": [
  {
   "cell_type": "markdown",
   "id": "4a5beeac-a5c9-4f52-acc6-ead07551f6a3",
   "metadata": {},
   "source": [
    "### 원소들의 곱과 합 (181929)\n",
    "문제 : 정수가 담긴 리스트 num_list가 주어질 때, 모든 원소들의 곱이 모든 원소들의 합의 제곱보다 작으면 1을 크면 0을 return하도록 solution 함수를 완성해주세요."
   ]
  },
  {
   "cell_type": "code",
   "execution_count": null,
   "id": "4d02a526-1aea-4174-9155-a09e885c8b67",
   "metadata": {},
   "outputs": [],
   "source": [
    "def solution(num_list):\n",
    "    n_sum = 0\n",
    "    multipli = 1 \n",
    "    \n",
    "    for i in num_list:\n",
    "        n_sum += i\n",
    "        multipli *= i\n",
    "        \n",
    "    return 1 if multipli < n_sum**2 else 0"
   ]
  },
  {
   "cell_type": "code",
   "execution_count": 1,
   "id": "deb5c05d-e6e1-4c81-bb39-a7abc7f1f584",
   "metadata": {},
   "outputs": [],
   "source": [
    "num_list = [3, 4, 5, 2, 1]"
   ]
  },
  {
   "cell_type": "code",
   "execution_count": null,
   "id": "fa2f61c3-d1f8-49a0-8ec6-385ead30138b",
   "metadata": {},
   "outputs": [],
   "source": []
  },
  {
   "cell_type": "markdown",
   "id": "79966699-098a-4c39-8867-38baba2674bd",
   "metadata": {},
   "source": [
    "### 이어 붙인 수 (181928)\n",
    "문제 : 정수가 담긴 리스트 num_list가 주어집니다. num_list의 홀수만 순서대로 이어 붙인 수와 짝수만 순서대로 이어 붙인 수의 합을 return하도록 solution 함수를 완성해주세요."
   ]
  },
  {
   "cell_type": "code",
   "execution_count": 4,
   "id": "df1175fb-f49f-4513-9f23-cb163d9fe700",
   "metadata": {},
   "outputs": [
    {
     "data": {
      "text/plain": [
       "393"
      ]
     },
     "execution_count": 4,
     "metadata": {},
     "output_type": "execute_result"
    }
   ],
   "source": [
    "def solution(num_list):\n",
    "    odd = ''\n",
    "    even = ''\n",
    "    for i in num_list:\n",
    "        if i % 2 != 0:\n",
    "            odd += str(i)\n",
    "        else:\n",
    "            even += str(i)\n",
    "    return int(odd) + int(even)\n",
    "\n",
    "solution([3, 4, 5, 2, 1])"
   ]
  },
  {
   "cell_type": "code",
   "execution_count": 5,
   "id": "2309a059-d436-410c-a4d5-1d9d85c39dcb",
   "metadata": {},
   "outputs": [
    {
     "data": {
      "text/plain": [
       "393"
      ]
     },
     "execution_count": 5,
     "metadata": {},
     "output_type": "execute_result"
    }
   ],
   "source": [
    "def solution(num_list):\n",
    "    odd = ''.join(str(i) for i in num_list if i % 2 == 1)  # 홀수를 이어붙인 문자열\n",
    "    even = ''.join(str(i) for i in num_list if i % 2 == 0) # 짝수\n",
    "    return int(odd) + int(even) \n",
    "\n",
    "solution([3, 4, 5, 2, 1])"
   ]
  },
  {
   "cell_type": "code",
   "execution_count": null,
   "id": "97d39485-1aef-4f77-bad8-f1ef1dcc92a2",
   "metadata": {},
   "outputs": [],
   "source": []
  },
  {
   "cell_type": "markdown",
   "id": "33c982d8-b1f7-4f7f-a11b-cf45c102b035",
   "metadata": {},
   "source": [
    "### 마지막 두 원소 (181927)\n",
    "문제 : 정수 리스트 num_list가 주어질 때, 마지막 원소가 그전 원소보다 크면 마지막 원소에서 그전 원소를 뺀 값을 마지막 원소가 그전 원소보다 크지 않다면 마지막 원소를 두 배한 값을 추가하여 return하도록 solution 함수를 완성해주세요. "
   ]
  },
  {
   "cell_type": "code",
   "execution_count": 8,
   "id": "85096dbb-753e-4324-a196-f5d104dfca85",
   "metadata": {},
   "outputs": [
    {
     "data": {
      "text/plain": [
       "[5, 2, 1, 7, 5, 10]"
      ]
     },
     "execution_count": 8,
     "metadata": {},
     "output_type": "execute_result"
    }
   ],
   "source": [
    "def solution(num_list):\n",
    "    if num_list[-1] > num_list[-2]:\n",
    "        num_list.append(num_list[-1] - num_list[-2])\n",
    "    else:\n",
    "        num_list.append(num_list[-1]*2)\n",
    "    return num_list\n",
    "\n",
    "solution([5, 2, 1, 7, 5])"
   ]
  },
  {
   "cell_type": "code",
   "execution_count": 10,
   "id": "4d395e0d-197b-44b6-94c6-ed2002e059c0",
   "metadata": {},
   "outputs": [
    {
     "data": {
      "text/plain": [
       "[5, 2, 1, 7, 5, 10]"
      ]
     },
     "execution_count": 10,
     "metadata": {},
     "output_type": "execute_result"
    }
   ],
   "source": [
    "def solution(num_list):\n",
    "    num_list.append(num_list[-1] - num_list[-2] if num_list[-1] > num_list[-2] else num_list[-1]*2)\n",
    "    return num_list\n",
    "\n",
    "solution([5, 2, 1, 7, 5])"
   ]
  },
  {
   "cell_type": "code",
   "execution_count": 6,
   "id": "73227638-7db2-4f21-8ce0-da5b2ba40151",
   "metadata": {},
   "outputs": [],
   "source": [
    "num_list = [5, 2, 1, 7, 5]"
   ]
  },
  {
   "cell_type": "code",
   "execution_count": 7,
   "id": "8508f9e9-22af-4237-99f7-fda27ce6dca4",
   "metadata": {},
   "outputs": [
    {
     "data": {
      "text/plain": [
       "7"
      ]
     },
     "execution_count": 7,
     "metadata": {},
     "output_type": "execute_result"
    }
   ],
   "source": [
    "num_list[-2]"
   ]
  },
  {
   "cell_type": "code",
   "execution_count": null,
   "id": "982671a6-13f5-4cb1-b245-2373726780aa",
   "metadata": {},
   "outputs": [],
   "source": []
  },
  {
   "cell_type": "markdown",
   "id": "01e1651e-97df-44eb-8eff-52db873ca8b0",
   "metadata": {},
   "source": [
    "### 수 조작하기 1 (181926)\n",
    "문제 : 정수 n과 문자열 control이 주어집니다. control은 \"w\", \"a\", \"s\", \"d\"의 4개의 문자로 이루어져 있으며, control의 앞에서부터 순서대로 문자에 따라 n의 값을 바꿉니다.\n",
    "\n",
    "- \"w\" : n이 1 커집니다.\n",
    "- \"s\" : n이 1 작아집니다.\n",
    "- \"d\" : n이 10 커집니다.\n",
    "- \"a\" : n이 10 작아집니다.\n",
    "\n",
    "위 규칙에 따라 n을 바꿨을 때 가장 마지막에 나오는 n의 값을 return 하는 solution 함수를 완성해 주세요."
   ]
  },
  {
   "cell_type": "code",
   "execution_count": 12,
   "id": "99c08301-40dd-4797-8f76-ba817d9ee8f2",
   "metadata": {},
   "outputs": [
    {
     "data": {
      "text/plain": [
       "-1"
      ]
     },
     "execution_count": 12,
     "metadata": {},
     "output_type": "execute_result"
    }
   ],
   "source": [
    "def solution(n, control):\n",
    "    for s in control:\n",
    "        if s == 'w':\n",
    "            n += 1\n",
    "        elif s == 's':\n",
    "            n -= 1\n",
    "        elif s == 'd':\n",
    "            n += 10\n",
    "        else:\n",
    "            n -= 10\n",
    "    return n\n",
    "\n",
    "solution(0, \"wsdawsdassw\")"
   ]
  }
 ],
 "metadata": {
  "kernelspec": {
   "display_name": "Python 3 (ipykernel)",
   "language": "python",
   "name": "python3"
  },
  "language_info": {
   "codemirror_mode": {
    "name": "ipython",
    "version": 3
   },
   "file_extension": ".py",
   "mimetype": "text/x-python",
   "name": "python",
   "nbconvert_exporter": "python",
   "pygments_lexer": "ipython3",
   "version": "3.10.7"
  }
 },
 "nbformat": 4,
 "nbformat_minor": 5
}
