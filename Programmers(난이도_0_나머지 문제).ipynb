{
 "cells": [
  {
   "cell_type": "markdown",
   "id": "f31dcf4e-6d6b-4fde-9586-9eae2c27318f",
   "metadata": {},
   "source": [
    "### 옹알이(2) (120956)\n",
    "문제 : 머쓱이는 태어난 지 6개월 된 조카를 돌보고 있습니다. 조카는 아직 \"aya\", \"ye\", \"woo\", \"ma\" 네 가지 발음을 최대 한 번씩 사용해 조합한(이어 붙인) 발음밖에 하지 못합니다. 문자열 배열 babbling이 매개변수로 주어질 때, 머쓱이의 조카가 발음할 수 있는 단어의 개수를 return하도록 solution 함수를 완성해주세요. "
   ]
  },
  {
   "cell_type": "code",
   "execution_count": 4,
   "id": "2a224ed6-968e-49d1-81a0-0c83162a9996",
   "metadata": {},
   "outputs": [
    {
     "data": {
      "text/plain": [
       "1"
      ]
     },
     "execution_count": 4,
     "metadata": {},
     "output_type": "execute_result"
    }
   ],
   "source": [
    "def solution(babbling):\n",
    "    babb = [\"aya\", \"ye\", \"woo\", \"ma\"]\n",
    "    result = 0\n",
    "    for s in babbling:\n",
    "        cnt = 0\n",
    "        word = ''\n",
    "        for j in s:\n",
    "            word += j\n",
    "            if word in babb:\n",
    "                word = ''\n",
    "                cnt += 1\n",
    "        if len(word) == 0 and cnt > 0:\n",
    "            result += 1\n",
    "    return result\n",
    "\n",
    "solution([\"aya\", \"yee\", \"u\", \"maa\", \"wyeoo\"])"
   ]
  },
  {
   "cell_type": "code",
   "execution_count": null,
   "id": "9274e56b-5ad0-4971-aee7-a1ce84c96a05",
   "metadata": {},
   "outputs": [],
   "source": []
  },
  {
   "cell_type": "markdown",
   "id": "29d3eb87-cb99-4a36-9a8b-1ed3e7d29a65",
   "metadata": {},
   "source": [
    "### 편지 (120898)\n",
    "문제 : 머쓱이는 할머니께 생신 축하 편지를 쓰려고 합니다. 할머니가 보시기 편하도록 글자 한 자 한 자를 가로 2cm 크기로 적으려고 하며, 편지를 가로로만 적을 때, 축하 문구 message를 적기 위해 필요한 편지지의 최소 가로길이를 return 하도록 solution 함수를 완성해주세요."
   ]
  },
  {
   "cell_type": "code",
   "execution_count": 1,
   "id": "5e1ae4b2-5123-43b0-9d29-ed8685ab2d0c",
   "metadata": {},
   "outputs": [
    {
     "data": {
      "text/plain": [
       "30"
      ]
     },
     "execution_count": 1,
     "metadata": {},
     "output_type": "execute_result"
    }
   ],
   "source": [
    "def solution(message):\n",
    "    count = 0\n",
    "    for _ in range(len(message)):\n",
    "        count += 2\n",
    "    return count\n",
    "\n",
    "solution(\"happy birthday!\")"
   ]
  },
  {
   "cell_type": "code",
   "execution_count": 2,
   "id": "216b2076-b014-4527-bd16-0bda993c2188",
   "metadata": {},
   "outputs": [
    {
     "data": {
      "text/plain": [
       "30"
      ]
     },
     "execution_count": 2,
     "metadata": {},
     "output_type": "execute_result"
    }
   ],
   "source": [
    "def solution(message):\n",
    "    return sum(2 for _ in range(len(message)))\n",
    "\n",
    "solution(\"happy birthday!\")"
   ]
  },
  {
   "cell_type": "code",
   "execution_count": null,
   "id": "f91d5c8d-0996-4788-9fed-f0338605c5c6",
   "metadata": {},
   "outputs": [],
   "source": []
  },
  {
   "cell_type": "markdown",
   "id": "1ba6327d-9baf-49be-a092-cab59c4d7978",
   "metadata": {},
   "source": [
    "### 문자열안에 문자 (120908)\n",
    "문제 : 문자열 str1, str2가 매개변수로 주어집니다. str1안에 str2가 있다면 1을 없다면 2를 return하도록 solution 함수를 완성해주세요."
   ]
  },
  {
   "cell_type": "code",
   "execution_count": 3,
   "id": "7f4d79b6-ff11-403a-9743-4323ecf31b7c",
   "metadata": {},
   "outputs": [
    {
     "data": {
      "text/plain": [
       "1"
      ]
     },
     "execution_count": 3,
     "metadata": {},
     "output_type": "execute_result"
    }
   ],
   "source": [
    "def solution(str1, str2):\n",
    "    return 1 if str2 in str1 else 2\n",
    "\n",
    "solution(\"ab6CDE443fgh22iJKlmn1o\", \"6CD\")"
   ]
  },
  {
   "cell_type": "code",
   "execution_count": null,
   "id": "12709515-7146-410f-bc08-13511850fb87",
   "metadata": {},
   "outputs": [],
   "source": []
  },
  {
   "cell_type": "markdown",
   "id": "2df4238b-111a-4b1a-bc8b-8af162942005",
   "metadata": {},
   "source": [
    "### 자릿수 더하기 (120906)\n",
    "문제 : 정수 n이 매개변수로 주어질 때 n의 각 자리 숫자의 합을 return하도록 solution 함수를 완성해주세요."
   ]
  },
  {
   "cell_type": "code",
   "execution_count": 8,
   "id": "70212fb4-3f27-4f4d-ab9f-8a2404982c03",
   "metadata": {},
   "outputs": [
    {
     "data": {
      "text/plain": [
       "10"
      ]
     },
     "execution_count": 8,
     "metadata": {},
     "output_type": "execute_result"
    }
   ],
   "source": [
    "def solution(n):\n",
    "    n = str(n)\n",
    "    result = []\n",
    "    for s in n:\n",
    "        result.append(int(s))\n",
    "    return sum(result)\n",
    "\n",
    "solution(1234)"
   ]
  },
  {
   "cell_type": "code",
   "execution_count": 7,
   "id": "b5f779f3-b712-421e-9051-14aa340dd9d0",
   "metadata": {},
   "outputs": [
    {
     "data": {
      "text/plain": [
       "10"
      ]
     },
     "execution_count": 7,
     "metadata": {},
     "output_type": "execute_result"
    }
   ],
   "source": [
    "def solution(n):\n",
    "    return sum([int(s) for s in str(n)])\n",
    "\n",
    "solution(1234)"
   ]
  },
  {
   "cell_type": "code",
   "execution_count": null,
   "id": "3ff15504-03fa-42d7-a11e-c7e8d4147f2b",
   "metadata": {},
   "outputs": [],
   "source": []
  },
  {
   "cell_type": "markdown",
   "id": "c6650252-36be-4335-b9fc-c1835098d46e",
   "metadata": {},
   "source": [
    "### n의 배수 고르기 (120905)\n",
    "문제 : 정수 n과 정수 배열 numlist가 매개변수로 주어질 때, numlist에서 n의 배수가 아닌 수들을 제거한 배열을 return하도록 solution 함수를 완성해주세요."
   ]
  },
  {
   "cell_type": "code",
   "execution_count": 9,
   "id": "9488d794-8cc5-4274-a7a6-fb4b3b93ac50",
   "metadata": {},
   "outputs": [
    {
     "data": {
      "text/plain": [
       "[6, 9, 12]"
      ]
     },
     "execution_count": 9,
     "metadata": {},
     "output_type": "execute_result"
    }
   ],
   "source": [
    "def solution(n, numlist):\n",
    "    result = []\n",
    "    for i in numlist:\n",
    "        if i%n == 0:\n",
    "            result.append(i)\n",
    "        else:\n",
    "            pass\n",
    "    return result\n",
    "\n",
    "solution(3, [4, 5, 6, 7, 8, 9, 10, 11, 12])"
   ]
  },
  {
   "cell_type": "code",
   "execution_count": 13,
   "id": "9e90fefd-b831-4abd-bd7f-fbaaa56860fc",
   "metadata": {},
   "outputs": [
    {
     "data": {
      "text/plain": [
       "[6, 9, 12]"
      ]
     },
     "execution_count": 13,
     "metadata": {},
     "output_type": "execute_result"
    }
   ],
   "source": [
    "def solution(n, numlist):\n",
    "    return [i for i in numlist if i%n == 0]\n",
    "\n",
    "solution(3, [4, 5, 6, 7, 8, 9, 10, 11, 12])"
   ]
  },
  {
   "cell_type": "code",
   "execution_count": null,
   "id": "7f2886b0-9b84-4ca6-9686-4f73f1fa0e34",
   "metadata": {},
   "outputs": [],
   "source": []
  },
  {
   "cell_type": "markdown",
   "id": "567fcaa3-9158-47f7-b590-bd25e0635b96",
   "metadata": {},
   "source": [
    "### 약수 구하기 (120897)\n",
    "문제 : 정수 n이 매개변수로 주어질 때, n의 약수를 오름차순으로 담은 배열을 return하도록 solution 함수를 완성해주세요."
   ]
  },
  {
   "cell_type": "code",
   "execution_count": 15,
   "id": "1fcb1c13-99f2-4830-9b63-9254c5e9b04b",
   "metadata": {},
   "outputs": [
    {
     "data": {
      "text/plain": [
       "[1, 2, 3, 4, 6, 8, 12, 24]"
      ]
     },
     "execution_count": 15,
     "metadata": {},
     "output_type": "execute_result"
    }
   ],
   "source": [
    "def solution(n):\n",
    "    result = []\n",
    "    for i in range(1, n+1):\n",
    "        if n%i == 0:\n",
    "            result.append(i)\n",
    "    return sorted(result)\n",
    "\n",
    "solution(24)"
   ]
  },
  {
   "cell_type": "code",
   "execution_count": 17,
   "id": "d7d653b0-fae7-43cc-bf1a-cdf0dc18fafc",
   "metadata": {},
   "outputs": [
    {
     "data": {
      "text/plain": [
       "[1, 2, 3, 4, 6, 8, 12, 24]"
      ]
     },
     "execution_count": 17,
     "metadata": {},
     "output_type": "execute_result"
    }
   ],
   "source": [
    "def solution(n):\n",
    "    return sorted([i for i in range(1, n+1) if n%i == 0])\n",
    "\n",
    "solution(24)"
   ]
  },
  {
   "cell_type": "code",
   "execution_count": null,
   "id": "fa6cc33c-5fbe-43aa-9da8-64ec1d475a79",
   "metadata": {},
   "outputs": [],
   "source": []
  },
  {
   "cell_type": "markdown",
   "id": "0be430e2-99a4-4f6e-8355-517e1c3b66d6",
   "metadata": {},
   "source": [
    "### OX퀴즈 (120907)\n",
    "문제 : 덧셈, 뺄셈 수식들이 'X [연산자] Y = Z' 형태로 들어있는 문자열 배열 quiz가 매개변수로 주어집니다. 수식이 옳다면 \"O\"를 틀리다면 \"X\"를 순서대로 담은 배열을 return하도록 solution 함수를 완성해주세요."
   ]
  },
  {
   "cell_type": "code",
   "execution_count": 22,
   "id": "8ea42fda-493f-4ced-bde9-720ce04d8b72",
   "metadata": {},
   "outputs": [
    {
     "data": {
      "text/plain": [
       "['O', 'O', 'X', 'O']"
      ]
     },
     "execution_count": 22,
     "metadata": {},
     "output_type": "execute_result"
    }
   ],
   "source": [
    "def solution(quiz):\n",
    "    calcul = []\n",
    "    answer = []\n",
    "    result = []\n",
    "    for s in quiz:\n",
    "        s = s.split('=')\n",
    "        if eval(s[0]) == int(s[1]):\n",
    "            result.append('O')\n",
    "        else:\n",
    "            result.append('X')\n",
    "    return result\n",
    "\n",
    "solution([\"19 - 6 = 13\", \"5 + 66 = 71\", \"5 - 15 = 63\", \"3 - 1 = 2\"])"
   ]
  },
  {
   "cell_type": "code",
   "execution_count": 19,
   "id": "bf439a24-bbe1-424e-8b37-99c6bd078076",
   "metadata": {},
   "outputs": [
    {
     "data": {
      "text/plain": [
       "['3 - 4 ', ' -3']"
      ]
     },
     "execution_count": 19,
     "metadata": {},
     "output_type": "execute_result"
    }
   ],
   "source": [
    "quiz = [\"3 - 4 = -3\", \"5 + 6 = 11\"]\n",
    "quiz[0].split('=')"
   ]
  },
  {
   "cell_type": "code",
   "execution_count": null,
   "id": "4dbb4e06-060d-4984-83f4-0439fc6e0c4b",
   "metadata": {},
   "outputs": [],
   "source": []
  },
  {
   "cell_type": "markdown",
   "id": "278beb93-e5cb-408d-b7f4-0f63deb191be",
   "metadata": {},
   "source": [
    "### 저주의 숫자 3 (120871)\n",
    "문제 : 3x 마을 사람들은 3을 저주의 숫자라고 생각하기 때문에 3의 배수와 숫자 3을 사용하지 않습니다. 3x 마을 사람들의 숫자는 다음과 같습니다. 정수 n이 매개변수로 주어질 때, n을 3x 마을에서 사용하는 숫자로 바꿔 return하도록 solution 함수를 완성해주세요."
   ]
  },
  {
   "cell_type": "code",
   "execution_count": 40,
   "id": "c507eac1-34e5-41e5-8591-4d9e7779bae7",
   "metadata": {},
   "outputs": [
    {
     "name": "stdout",
     "output_type": "stream",
     "text": [
      "[1, 2, 4, 5, 7, 8, 10, 11, 14, 16, 17, 19, 20, 22, 25, 26, 28, 29, 40, 41, 44, 46, 47, 49, 50, 52, 55, 56, 58, 59, 61, 62, 64, 65, 67, 68, 70, 71, 74, 76, 77, 79, 80, 82, 85, 86, 88, 89, 91, 92, 94, 95, 97, 98, 100, 101, 104, 106, 107, 109, 110, 112, 115, 116, 118, 119]\n"
     ]
    },
    {
     "data": {
      "text/plain": [
       "76"
      ]
     },
     "execution_count": 40,
     "metadata": {},
     "output_type": "execute_result"
    }
   ],
   "source": [
    "# stack 자료구조를 이용하여 3이거나 3의 배수 또는 '3'이 포함되는 숫자를 append하고 바로 pop으로 빼버리려 했으나 몇몇 테스트 케이스에서 런타임 오류가 남\n",
    "# maybe.. 범위 설정이 잘못된 듯 싶음. 또한 굳이 넣었다 뺄 필요없이 pass로 지나가면 가능할 것 같음\n",
    "\n",
    "def solution(n):\n",
    "    result = []\n",
    "\n",
    "    for i in range(1, 120):\n",
    "        if i == 3:\n",
    "            result.append(i)\n",
    "            result.pop()\n",
    "        elif i%3 == 0:            \n",
    "            result.append(i)\n",
    "            result.pop()\n",
    "        elif '3' in str(i):\n",
    "            result.append(i)\n",
    "            result.pop()\n",
    "        else:\n",
    "            result.append(i)\n",
    "    print(result)\n",
    "\n",
    "    return result[n-1]\n",
    "\n",
    "solution(40)"
   ]
  },
  {
   "cell_type": "code",
   "execution_count": 47,
   "id": "d29244f2-34b0-4892-a7f0-9148f4630d8c",
   "metadata": {},
   "outputs": [
    {
     "name": "stdout",
     "output_type": "stream",
     "text": [
      "[1, 2, 4, 5, 7, 8, 10, 11, 14, 16, 17, 19, 20, 22, 25, 26, 28, 29, 40, 41, 44, 46, 47, 49, 50, 52, 55, 56, 58, 59, 61, 62, 64, 65, 67, 68, 70, 71, 74, 76, 77, 79, 80, 82, 85, 86, 88, 89, 91, 92, 94, 95, 97, 98, 100, 101, 104, 106, 107, 109, 110, 112, 115, 116, 118, 119, 121, 122, 124, 125, 127, 128, 140, 142, 145, 146, 148, 149, 151, 152, 154, 155, 157, 158, 160, 161, 164, 166, 167, 169, 170, 172, 175, 176, 178, 179, 181, 182, 184, 185, 187, 188, 190, 191, 194, 196, 197, 199]\n"
     ]
    },
    {
     "data": {
      "text/plain": [
       "185"
      ]
     },
     "execution_count": 47,
     "metadata": {},
     "output_type": "execute_result"
    }
   ],
   "source": [
    "def solution(n):\n",
    "    result = []\n",
    "\n",
    "    for i in range(1, 200):\n",
    "        if i == 3:\n",
    "            pass\n",
    "        elif i%3 == 0:            \n",
    "            pass\n",
    "        elif '3' in str(i):\n",
    "            pass\n",
    "        else:\n",
    "            result.append(i)\n",
    "    print(result)\n",
    "\n",
    "    return result[n-1]\n",
    "\n",
    "solution(100)"
   ]
  },
  {
   "cell_type": "code",
   "execution_count": null,
   "id": "12fc1d05-fa22-4658-91d5-4d3c8e074aa7",
   "metadata": {},
   "outputs": [],
   "source": []
  },
  {
   "cell_type": "markdown",
   "id": "ad0193a5-de15-4c73-9138-3d8aafa7845e",
   "metadata": {},
   "source": [
    "### 평행 (120875)\n",
    "문제 : 점 네 개의 좌표를 담은 이차원 배열  `dots`가 다음과 같이 매개변수로 주어집니다.\n",
    " - [[x1, y1], [x2, y2], [x3, y3], [x4, y4]]\n",
    "\n",
    "주어진 네 개의 점을 두 개씩 이었을 때, 두 직선이 평행이 되는 경우가 있으면 1을 없으면 0을 return 하도록 solution 함수를 완성해보세요."
   ]
  },
  {
   "cell_type": "code",
   "execution_count": 48,
   "id": "84121d45-a1f2-4a45-b628-3f3cfbf0910c",
   "metadata": {},
   "outputs": [
    {
     "data": {
      "text/plain": [
       "1"
      ]
     },
     "execution_count": 48,
     "metadata": {},
     "output_type": "execute_result"
    }
   ],
   "source": [
    "def solution(dots):\n",
    "    x1, y1 = dots[0][0], dots[0][1]    # 각 점의 x, y좌표를 추출\n",
    "    x2, y2 = dots[1][0], dots[1][1]\n",
    "    x3, y3 = dots[2][0], dots[2][1]\n",
    "    x4, y4 = dots[3][0], dots[3][1]\n",
    "\n",
    "    if (x1 - x2) * (y3 - y4) == (y1 - y2) * (x3 - x4):      # 각각 2개의 변이 서로 평행한 경우를 판별(기울기를 비교), 1번 점과 2번 점을 이어 만든 직선과 3번 점과 4번 점을 이어 만든 직선이 평행한 경우\n",
    "        return 1\n",
    "    elif (x1 - x3) * (y2 - y4) == (y1 - y3) * (x2 - x4):    # 1번 점과 3번 점을 이어 만든 직선과 2번 점과 4번 점을 이어 만든 직선이 평행한 경우\n",
    "        return 1\n",
    "    else:\n",
    "        return 0\n",
    "    \n",
    "solution([[1, 4], [9, 2], [3, 8], [11, 6]])"
   ]
  },
  {
   "cell_type": "code",
   "execution_count": null,
   "id": "ba255d66-2d73-4b9a-907f-78d008e93858",
   "metadata": {},
   "outputs": [],
   "source": []
  },
  {
   "cell_type": "markdown",
   "id": "8bfdbace-824b-4c6b-8954-0c3072a3e9da",
   "metadata": {},
   "source": [
    "### 안전지대 (120866)\n",
    "문제 : 다음 그림과 같이 지뢰가 있는 지역과 지뢰에 인접한 위, 아래, 좌, 우 대각선 칸을 모두 위험지역으로 분류합니다."
   ]
  },
  {
   "cell_type": "code",
   "execution_count": 58,
   "id": "a9c49bd4-e67b-42f4-983c-31c30ffbdd47",
   "metadata": {},
   "outputs": [
    {
     "data": {
      "image/png": "[encoded data removed]",
      "text/plain": [
       "<IPython.core.display.Image object>"
      ]
     },
     "execution_count": 58,
     "metadata": {},
     "output_type": "execute_result"
    }
   ],
   "source": [
    "from IPython.display import Image\n",
    "Image(filename='bomb.png')"
   ]
  },
  {
   "cell_type": "markdown",
   "id": "d0fe56ea-6050-4cff-916f-cd92b19a1b52",
   "metadata": {},
   "source": [
    "지뢰는 2차원 배열 board에 1로 표시되어 있고 board에는 지뢰가 매설 된 지역 1과, 지뢰가 없는 지역 0만 존재합니다.\n",
    "지뢰가 매설된 지역의 지도 board가 매개변수로 주어질 때, 안전한 지역의 칸 수를 return하도록 solution 함수를 완성해주세요."
   ]
  },
  {
   "cell_type": "code",
   "execution_count": 60,
   "id": "bd6db0ee-dabd-4b41-9c28-7875786cdd76",
   "metadata": {},
   "outputs": [
    {
     "data": {
      "text/plain": [
       "0"
      ]
     },
     "execution_count": 60,
     "metadata": {},
     "output_type": "execute_result"
    }
   ],
   "source": [
    "def solution(board):\n",
    "    answer = 0\n",
    "    row = len(board)\n",
    "    col = len(board[0])\n",
    "    for i in range(row):\n",
    "        for j in range(col):\n",
    "            if board[i][j] == 0:\n",
    "                # count number of adjacent mines\n",
    "                cnt = 0\n",
    "                if i > 0 and j > 0 and board[i - 1][j - 1] == 1:\n",
    "                    cnt += 1\n",
    "                if i > 0 and board[i - 1][j] == 1:\n",
    "                    cnt += 1\n",
    "                if i > 0 and j < col - 1 and board[i - 1][j + 1] == 1:\n",
    "                    cnt += 1\n",
    "                if j > 0 and board[i][j - 1] == 1:\n",
    "                    cnt += 1\n",
    "                if j < col - 1 and board[i][j + 1] == 1:\n",
    "                    cnt += 1\n",
    "                if i < row - 1 and j > 0 and board[i + 1][j - 1] == 1:\n",
    "                    cnt += 1\n",
    "                if i < row - 1 and board[i + 1][j] == 1:\n",
    "                    cnt += 1\n",
    "                if i < row - 1 and j < col - 1 and board[i + 1][j + 1] == 1:\n",
    "                    cnt += 1\n",
    "                if cnt == 0:\n",
    "                    answer += 1\n",
    "    return answer\n",
    "\n",
    "solution([[1, 1, 1, 1, 1, 1], [1, 1, 1, 1, 1, 1], [1, 1, 1, 1, 1, 1], [1, 1, 1, 1, 1, 1], [1, 1, 1, 1, 1, 1], [1, 1, 1, 1, 1, 1]])"
   ]
  }
 ],
 "metadata": {
  "kernelspec": {
   "display_name": "Python 3 (ipykernel)",
   "language": "python",
   "name": "python3"
  },
  "language_info": {
   "codemirror_mode": {
    "name": "ipython",
    "version": 3
   },
   "file_extension": ".py",
   "mimetype": "text/x-python",
   "name": "python",
   "nbconvert_exporter": "python",
   "pygments_lexer": "ipython3",
   "version": "3.10.7"
  }
 },
 "nbformat": 4,
 "nbformat_minor": 5
}
