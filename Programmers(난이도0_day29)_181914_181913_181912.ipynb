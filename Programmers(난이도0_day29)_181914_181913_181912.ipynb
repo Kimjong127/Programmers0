{
 "cells": [
  {
   "cell_type": "markdown",
   "id": "cc13c848-2b20-4d57-bdeb-dc646217ecc5",
   "metadata": {},
   "source": [
    "### 9로 나눈 나머지 (181914)\n",
    "문제 : 음이 아닌 정수를 9로 나눈 나머지는 그 정수의 각 자리 숫자의 합을 9로 나눈 나머지와 같은 것이 알려져 있습니다.\n",
    "이 사실을 이용하여 음이 아닌 정수가 문자열 number로 주어질 때, 이 정수를 9로 나눈 나머지를 return 하는 solution 함수를 작성해주세요."
   ]
  },
  {
   "cell_type": "code",
   "execution_count": 28,
   "id": "af7b2293-7043-46c0-ab87-895fa6af5489",
   "metadata": {},
   "outputs": [
    {
     "data": {
      "text/plain": [
       "2"
      ]
     },
     "execution_count": 28,
     "metadata": {},
     "output_type": "execute_result"
    }
   ],
   "source": [
    "def solution(number):\n",
    "    return ((sum(int(digit) for digit in str(number)))) % 9  # 반복문으로 각 문자열의 자릿수를 합산한 값을 9로 나눈 나머지 반환\n",
    "\n",
    "solution(\"78720646226947352489\")"
   ]
  },
  {
   "cell_type": "code",
   "execution_count": null,
   "id": "eede7ea7-f399-46f9-914c-616b1a6eb203",
   "metadata": {},
   "outputs": [],
   "source": []
  },
  {
   "cell_type": "markdown",
   "id": "7ddd10a3-9bac-4635-ac01-bffd44218571",
   "metadata": {
    "tags": []
   },
   "source": [
    "### 문자열 여러 번 뒤집기 (181913)\n",
    "문제 : 문자열 my_string과 이차원 정수 배열 queries가 매개변수로 주어집니다. queries의 원소는 [s, e] 형태로, my_string의 인덱스 s부터 인덱스 e까지를 뒤집으라는 의미입니다. my_string에 queries의 명령을 순서대로 처리한 후의 문자열을 return 하는 solution 함수를 작성해 주세요."
   ]
  },
  {
   "cell_type": "code",
   "execution_count": 60,
   "id": "3fc84cbe-7c75-4cd8-af90-df3b0183f886",
   "metadata": {},
   "outputs": [
    {
     "data": {
      "text/plain": [
       "'programmers'"
      ]
     },
     "execution_count": 60,
     "metadata": {},
     "output_type": "execute_result"
    }
   ],
   "source": [
    "def solution(my_string, queries):\n",
    "    for i in queries:\n",
    "        reversed_my_string = my_string[i[0]:i[1]+1][::-1]                      # 문자열을 뒤집어 reverse변수에 저장\n",
    "        my_string = my_string[:i[0]] + reversed_my_string + my_string[i[1]+1:]   # 뒤집은 문자열을 원래 문자열과 합쳐 다시 my_string에 저장\n",
    "    return my_string\n",
    "\n",
    "solution(\"rermgorpsam\", [[2, 3], [0, 7], [5, 9], [6, 10]])"
   ]
  },
  {
   "cell_type": "code",
   "execution_count": 56,
   "id": "05e8a930-6dfa-433d-95a4-629cd7f773ed",
   "metadata": {},
   "outputs": [],
   "source": [
    "queries = [[2, 3], [0, 7], [5, 9], [6, 10]]"
   ]
  },
  {
   "cell_type": "code",
   "execution_count": 58,
   "id": "f95bf734-3ec0-40d5-ab74-37b750d4052a",
   "metadata": {},
   "outputs": [
    {
     "data": {
      "text/plain": [
       "3"
      ]
     },
     "execution_count": 58,
     "metadata": {},
     "output_type": "execute_result"
    }
   ],
   "source": [
    "queries[0][1]"
   ]
  },
  {
   "cell_type": "code",
   "execution_count": 40,
   "id": "a513a8f4-7505-4228-a6fd-51b9a7fe71fa",
   "metadata": {},
   "outputs": [],
   "source": [
    "my_string = \"rermgorpsam\""
   ]
  },
  {
   "cell_type": "code",
   "execution_count": 49,
   "id": "63ac5754-8efa-4ec6-a939-40fde12cb0c2",
   "metadata": {},
   "outputs": [
    {
     "data": {
      "text/plain": [
       "'rm'"
      ]
     },
     "execution_count": 49,
     "metadata": {},
     "output_type": "execute_result"
    }
   ],
   "source": [
    "my_string[2:3+1]"
   ]
  },
  {
   "cell_type": "code",
   "execution_count": 52,
   "id": "e99277f3-1ef6-4aad-9f4b-c6760345664a",
   "metadata": {},
   "outputs": [
    {
     "data": {
      "text/plain": [
       "''"
      ]
     },
     "execution_count": 52,
     "metadata": {},
     "output_type": "execute_result"
    }
   ],
   "source": [
    "my_string[3:2]"
   ]
  },
  {
   "cell_type": "code",
   "execution_count": 38,
   "id": "af44c711-2814-4c60-8ab5-ab47fabfb3e2",
   "metadata": {},
   "outputs": [
    {
     "data": {
      "text/plain": [
       "'emgopsam'"
      ]
     },
     "execution_count": 38,
     "metadata": {},
     "output_type": "execute_result"
    }
   ],
   "source": [
    "my_string.replace(my_string[2:3], my_string[3:2])"
   ]
  },
  {
   "cell_type": "code",
   "execution_count": null,
   "id": "5c4f97c8-df9b-417b-a5c3-46d58a0e6373",
   "metadata": {},
   "outputs": [],
   "source": []
  },
  {
   "cell_type": "markdown",
   "id": "4a995114-ca59-43e4-a60d-3c63f7f1673c",
   "metadata": {},
   "source": [
    "### 배열 만들기 5 (181912)\n",
    "문제: 문자열 배열 intStrs와 정수 k, s, l가 주어집니다. intStrs의 원소는 숫자로 이루어져 있습니다.\n",
    "\n",
    "배열 intStrs의 각 원소마다 s번 인덱스에서 시작하는 길이 l짜리 부분 문자열을 잘라내 정수로 변환합니다. 이때 변환한 정수값이 k보다 큰 값들을 담은 배열을 return 하는 solution 함수를 완성해 주세요."
   ]
  },
  {
   "cell_type": "code",
   "execution_count": 3,
   "id": "8cc25fae-a407-4455-bf3a-f4f78ffefed6",
   "metadata": {},
   "outputs": [
    {
     "data": {
      "text/plain": [
       "[56789, 99999]"
      ]
     },
     "execution_count": 3,
     "metadata": {},
     "output_type": "execute_result"
    }
   ],
   "source": [
    "def solution(intStrs, k, s, l):\n",
    "    result = []\n",
    "    for i in intStrs:                       # intStr을 반복문을 돌며\n",
    "        if int(i[s:s+l]) > k:               # i의 s부터 l길이의 문자열을 정수로 바꾼 값이 k보다 클 경우\n",
    "            result.append(int(i[s:s+l]))    # result에 append해준다.\n",
    "    return result\n",
    "\n",
    "solution([\"0123456789\",\"9876543210\",\"9999999999999\"], 50000, 5, 5)"
   ]
  }
 ],
 "metadata": {
  "kernelspec": {
   "display_name": "Python 3 (ipykernel)",
   "language": "python",
   "name": "python3"
  },
  "language_info": {
   "codemirror_mode": {
    "name": "ipython",
    "version": 3
   },
   "file_extension": ".py",
   "mimetype": "text/x-python",
   "name": "python",
   "nbconvert_exporter": "python",
   "pygments_lexer": "ipython3",
   "version": "3.10.7"
  }
 },
 "nbformat": 4,
 "nbformat_minor": 5
}
