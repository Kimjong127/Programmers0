{
 "cells": [
  {
   "cell_type": "markdown",
   "id": "aba54f02-0f92-4289-8039-a76328b1ddaf",
   "metadata": {},
   "source": [
    "### qr code (181903)\n",
    "문제 : 두 정수 q, r과 문자열 code가 주어질 때, code의 각 인덱스를 q로 나누었을 때 나머지가 r인 위치의 문자를 앞에서부터 순서대로 이어 붙인 문자열을 return 하는 solution 함수를 작성해 주세요."
   ]
  },
  {
   "cell_type": "code",
   "execution_count": 1,
   "id": "5c54f24f-6e0e-4097-a135-17ab16dc5fa9",
   "metadata": {},
   "outputs": [
    {
     "data": {
      "text/plain": [
       "'jerry'"
      ]
     },
     "execution_count": 1,
     "metadata": {},
     "output_type": "execute_result"
    }
   ],
   "source": [
    "def solution(q, r, code):\n",
    "    result = ''\n",
    "    for i in range(len(code)):\n",
    "        if i%q == r:             # i를 q로 나눈 나머지가 r과 같을 경우\n",
    "            result += code[i]    # 비어있는 result 문자열에 code[i]를 더해준다.\n",
    "    return result\n",
    "\n",
    "solution(3, 1, \"qjnwezgrpirldywt\")"
   ]
  },
  {
   "cell_type": "code",
   "execution_count": null,
   "id": "ad634e3c-8d09-48ca-b814-f5b846df1258",
   "metadata": {},
   "outputs": [],
   "source": []
  },
  {
   "cell_type": "markdown",
   "id": "fd5779c2-c59e-4074-ad84-a3a9ff1ea359",
   "metadata": {},
   "source": [
    "### 문자 개수 세기 (181902)\n",
    "문제 : 알파벳 대소문자로만 이루어진 문자열 my_string이 주어질 때, my_string에서 'A'의 개수, my_string에서 'B'의 개수,..., my_string에서 'Z'의 개수, my_string에서 'a'의 개수, my_string에서 'b'의 개수,..., my_string에서 'z'의 개수를 순서대로 담은 길이 52의 정수 배열을 return 하는 solution 함수를 작성해 주세요."
   ]
  },
  {
   "cell_type": "code",
   "execution_count": 5,
   "id": "bbe53634-f598-41cc-be01-98910ac77c4c",
   "metadata": {
    "collapsed": true,
    "jupyter": {
     "outputs_hidden": true
    },
    "tags": []
   },
   "outputs": [
    {
     "data": {
      "text/plain": [
       "[0,\n",
       " 0,\n",
       " 0,\n",
       " 0,\n",
       " 0,\n",
       " 0,\n",
       " 0,\n",
       " 0,\n",
       " 0,\n",
       " 0,\n",
       " 0,\n",
       " 0,\n",
       " 0,\n",
       " 0,\n",
       " 0,\n",
       " 1,\n",
       " 0,\n",
       " 0,\n",
       " 0,\n",
       " 0,\n",
       " 0,\n",
       " 0,\n",
       " 0,\n",
       " 0,\n",
       " 0,\n",
       " 0,\n",
       " 1,\n",
       " 0,\n",
       " 0,\n",
       " 0,\n",
       " 1,\n",
       " 0,\n",
       " 1,\n",
       " 0,\n",
       " 0,\n",
       " 0,\n",
       " 0,\n",
       " 0,\n",
       " 2,\n",
       " 0,\n",
       " 1,\n",
       " 0,\n",
       " 0,\n",
       " 3,\n",
       " 1,\n",
       " 0,\n",
       " 0,\n",
       " 0,\n",
       " 0,\n",
       " 0,\n",
       " 0,\n",
       " 0]"
      ]
     },
     "execution_count": 5,
     "metadata": {},
     "output_type": "execute_result"
    }
   ],
   "source": [
    "def solution(my_string):\n",
    "    counts = [0] * 52\n",
    "\n",
    "    for char in my_string:\n",
    "        if 'A' <= char <= 'Z':                       # 대문자일 경우,\n",
    "            counts[ord(char) - ord('A')] += 1        # 리스트의 대문자 구역 (0~25)에서 해당 자리에 1씩 더해준다.\n",
    "        elif 'a' <= char <= 'z':                     # 소문자의 경우\n",
    "            counts[ord(char) - ord('a') + 26] += 1   # 리스트의 소문자 구역 (26~51)에 해당하는 자리에 1씩 더해줌\n",
    "    return counts\n",
    "\n",
    "solution(\"Programmers\")"
   ]
  },
  {
   "cell_type": "code",
   "execution_count": 6,
   "id": "454aa64e-7af0-48b3-b30e-dbf28188ade9",
   "metadata": {},
   "outputs": [],
   "source": [
    "\n",
    "alphabet = 'ABCDEFGHIJKLMNOPQRSTUVWXYZ'\n",
    "alphabet2 = 'abcdefghijklmnopqrstuvwxyz'\n",
    "\n"
   ]
  },
  {
   "cell_type": "code",
   "execution_count": 7,
   "id": "926271d8-a10c-4461-82a2-6e65f1a419a5",
   "metadata": {},
   "outputs": [
    {
     "data": {
      "text/plain": [
       "26"
      ]
     },
     "execution_count": 7,
     "metadata": {},
     "output_type": "execute_result"
    }
   ],
   "source": [
    "len(alphabet)"
   ]
  },
  {
   "cell_type": "code",
   "execution_count": null,
   "id": "4a6934e2-d294-4e4e-ab9c-bf3eac53a0af",
   "metadata": {},
   "outputs": [],
   "source": []
  },
  {
   "cell_type": "markdown",
   "id": "64e4a971-30c6-4bf2-8258-4556a647e7d7",
   "metadata": {},
   "source": [
    "### 배열 만들기 1 (181901)\n",
    "문제 : 정수 n과 k가 주어졌을 때, 1 이상 n이하의 정수 중에서 k의 배수를 오름차순으로 저장한 배열을 return 하는 solution 함수를 완성해 주세요."
   ]
  },
  {
   "cell_type": "code",
   "execution_count": 9,
   "id": "6b05b6ca-2c7c-4500-abc4-05b73282203f",
   "metadata": {},
   "outputs": [
    {
     "data": {
      "text/plain": [
       "[3, 6, 9]"
      ]
     },
     "execution_count": 9,
     "metadata": {},
     "output_type": "execute_result"
    }
   ],
   "source": [
    "def solution(n, k):\n",
    "    return sorted([i for i in range(1, n+1) if i >= k and i%k == 0])   # 1부터 n+1까지 반복문을 돌며, i가 k보다 크고 i를 k로 나눴을때 나머지가 0인 경우(배수인 경우)를 리스트에 저장하고 오름차순으로 정렬한다.\n",
    "\n",
    "solution(10, 3)"
   ]
  }
 ],
 "metadata": {
  "kernelspec": {
   "display_name": "Python 3 (ipykernel)",
   "language": "python",
   "name": "python3"
  },
  "language_info": {
   "codemirror_mode": {
    "name": "ipython",
    "version": 3
   },
   "file_extension": ".py",
   "mimetype": "text/x-python",
   "name": "python",
   "nbconvert_exporter": "python",
   "pygments_lexer": "ipython3",
   "version": "3.10.7"
  }
 },
 "nbformat": 4,
 "nbformat_minor": 5
}
