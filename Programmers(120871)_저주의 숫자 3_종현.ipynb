{
 "cells": [
  {
   "cell_type": "markdown",
   "id": "ef0534e7-b1af-4e7e-83be-234ace57ee16",
   "metadata": {},
   "source": [
    "### 저주의 숫자 3 (120871)\n",
    "문제 : 3x 마을 사람들은 3을 저주의 숫자라고 생각하기 때문에 3의 배수와 숫자 3을 사용하지 않습니다. 3x 마을 사람들의 숫자는 다음과 같습니다.\n",
    "\n",
    "정수 n이 매개변수로 주어질 때, n을 3x 마을에서 사용하는 숫자로 바꿔 return하도록 solution 함수를 완성해주세요."
   ]
  },
  {
   "cell_type": "code",
   "execution_count": 7,
   "id": "605550d3-10fe-4a31-bb19-24d073181ca4",
   "metadata": {},
   "outputs": [
    {
     "data": {
      "text/plain": [
       "76"
      ]
     },
     "execution_count": 7,
     "metadata": {},
     "output_type": "execute_result"
    }
   ],
   "source": [
    "def solution(n):\n",
    "    result = 0\n",
    "    for _ in range(1, n+1):\n",
    "        result += 1\n",
    "        while result % 3 == 0 or '3' in list(str(result)):\n",
    "            result += 1\n",
    "    return result\n",
    "solution(40)"
   ]
  }
 ],
 "metadata": {
  "kernelspec": {
   "display_name": "Python 3 (ipykernel)",
   "language": "python",
   "name": "python3"
  },
  "language_info": {
   "codemirror_mode": {
    "name": "ipython",
    "version": 3
   },
   "file_extension": ".py",
   "mimetype": "text/x-python",
   "name": "python",
   "nbconvert_exporter": "python",
   "pygments_lexer": "ipython3",
   "version": "3.10.7"
  }
 },
 "nbformat": 4,
 "nbformat_minor": 5
}
