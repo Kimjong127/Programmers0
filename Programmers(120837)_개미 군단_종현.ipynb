{
 "cells": [
  {
   "cell_type": "markdown",
   "id": "3138df3a-0be3-48e5-8953-0661bcf2da39",
   "metadata": {},
   "source": [
    "### 개미 군단 (120837)\n",
    "문제 : 개미 군단이 사냥을 나가려고 합니다. 개미군단은 사냥감의 체력에 딱 맞는 병력을 데리고 나가려고 합니다. 장군개미는 5의 공격력을, 병정개미는 3의 공격력을 일개미는 1의 공격력을 가지고 있습니다. 예를 들어 체력 23의 여치를 사냥하려고 할 때, 일개미 23마리를 데리고 가도 되지만, 장군개미 네 마리와 병정개미 한 마리를 데리고 간다면 더 적은 병력으로 사냥할 수 있습니다. 사냥감의 체력 hp가 매개변수로 주어질 때, 사냥감의 체력에 딱 맞게 최소한의 병력을 구성하려면 몇 마리의 개미가 필요한지를 return하도록 solution 함수를 완성해주세요."
   ]
  },
  {
   "cell_type": "code",
   "execution_count": null,
   "id": "9187974e-7200-412e-b159-b5fe8754ec5f",
   "metadata": {},
   "outputs": [
    {
     "ename": "KeyboardInterrupt",
     "evalue": "",
     "output_type": "error",
     "traceback": [
      "\u001b[1;31m---------------------------------------------------------------------------\u001b[0m",
      "\u001b[1;31mKeyboardInterrupt\u001b[0m                         Traceback (most recent call last)",
      "Cell \u001b[1;32mIn [2], line 18\u001b[0m\n\u001b[0;32m     15\u001b[0m                 cnt \u001b[38;5;241m+\u001b[39m\u001b[38;5;241m=\u001b[39m \u001b[38;5;241m1\u001b[39m\n\u001b[0;32m     16\u001b[0m     \u001b[38;5;28;01mreturn\u001b[39;00m cnt\n\u001b[1;32m---> 18\u001b[0m \u001b[43msolution\u001b[49m\u001b[43m(\u001b[49m\u001b[38;5;241;43m23\u001b[39;49m\u001b[43m)\u001b[49m                 \u001b[38;5;66;03m# 숫자가 큰 경우, 시간초과가 발생하는 것으로 보임\u001b[39;00m\n",
      "Cell \u001b[1;32mIn [2], line 7\u001b[0m, in \u001b[0;36msolution\u001b[1;34m(hp)\u001b[0m\n\u001b[0;32m      5\u001b[0m \u001b[38;5;28;01mdef\u001b[39;00m \u001b[38;5;21msolution\u001b[39m(hp):\n\u001b[0;32m      6\u001b[0m     cnt \u001b[38;5;241m=\u001b[39m \u001b[38;5;241m0\u001b[39m                 \u001b[38;5;66;03m# 마리 수를 세기위해 공간 생성\u001b[39;00m\n\u001b[1;32m----> 7\u001b[0m     \u001b[38;5;28;01mwhile\u001b[39;00m \u001b[43mhp\u001b[49m\u001b[43m \u001b[49m\u001b[38;5;241;43m!=\u001b[39;49m\u001b[43m \u001b[49m\u001b[38;5;241;43m0\u001b[39;49m:          \u001b[38;5;66;03m# hp가 0이 아닐 동안\u001b[39;00m\n\u001b[0;32m      8\u001b[0m         hp \u001b[38;5;241m-\u001b[39m\u001b[38;5;241m=\u001b[39m ant[\u001b[38;5;241m0\u001b[39m]        \u001b[38;5;66;03m# hp에서 장군개미의 공격력(5)을 계속 빼준 값을 다시 hp에 대입\u001b[39;00m\n\u001b[0;32m      9\u001b[0m         cnt \u001b[38;5;241m+\u001b[39m\u001b[38;5;241m=\u001b[39m \u001b[38;5;241m1\u001b[39m            \u001b[38;5;66;03m# 한 번 뺄때마다 cnt에 1씩 더해줌\u001b[39;00m\n",
      "\u001b[1;31mKeyboardInterrupt\u001b[0m: "
     ]
    }
   ],
   "source": [
    "# 시간초과\n",
    "\n",
    "ant = [5, 3, 1]\n",
    "          \n",
    "def solution(hp):\n",
    "    cnt = 0                 # 마리 수를 세기위해 공간 생성\n",
    "    while hp != 0:          # hp가 0이 아닐 동안\n",
    "        hp -= ant[0]        # hp에서 장군개미의 공격력(5)을 계속 빼준 값을 다시 hp에 대입\n",
    "        cnt += 1            # 한 번 뺄때마다 cnt에 1씩 더해줌\n",
    "        if hp%ant[0] > 0:   # hp를 장군개미의 공격력으로 나눈 나머지가 0보다 큰 경우 (더 이상 hp에서 병정개미 공격력을 뺄 수 없을 때)\n",
    "            hp -= ant[1]    # hp에서 병정개미의 공격력을 빼주고 위와 같은 과정을 거친다.\n",
    "            cnt += 1\n",
    "            if hp%ant[1] > 0:\n",
    "                hp -= ant[2]\n",
    "                cnt += 1\n",
    "    return cnt\n",
    "            \n",
    "solution(23)                 # 숫자가 큰 경우, 시간초과가 발생하는 것으로 보임"
   ]
  },
  {
   "cell_type": "code",
   "execution_count": 28,
   "id": "46cd82fd-2f8b-4548-a14f-0f025b79ffc7",
   "metadata": {},
   "outputs": [
    {
     "name": "stdout",
     "output_type": "stream",
     "text": [
      "199\n",
      "4\n"
     ]
    },
    {
     "data": {
      "text/plain": [
       "201"
      ]
     },
     "execution_count": 28,
     "metadata": {},
     "output_type": "execute_result"
    }
   ],
   "source": [
    "# 가장 큰 값(장군개미의 공격력)으로 일단 hp를 나누고 시작\n",
    "\n",
    "def solution(hp):\n",
    "    cnt = hp//5                 # cnt를 제일 큰 값인 장군개미의 공격력으로 hp를 나눈 몫을 대입 \n",
    "    hp = hp%5                   # hp에 장군개미의 공격력으로 hp를 나눈 나머지를 대입\n",
    "    print(cnt)\n",
    "    print(hp)\n",
    "    while hp != 0:\n",
    "        if hp >= 3:\n",
    "            hp %= 3\n",
    "            cnt += 1\n",
    "        else:\n",
    "            hp -= 1\n",
    "            cnt += 1\n",
    "    return cnt\n",
    "                \n",
    "solution(999)            "
   ]
  },
  {
   "cell_type": "code",
   "execution_count": null,
   "id": "798c74a8-6645-4e4d-8125-2f7c38a95da6",
   "metadata": {},
   "outputs": [],
   "source": []
  }
 ],
 "metadata": {
  "kernelspec": {
   "display_name": "Python 3 (ipykernel)",
   "language": "python",
   "name": "python3"
  },
  "language_info": {
   "codemirror_mode": {
    "name": "ipython",
    "version": 3
   },
   "file_extension": ".py",
   "mimetype": "text/x-python",
   "name": "python",
   "nbconvert_exporter": "python",
   "pygments_lexer": "ipython3",
   "version": "3.10.7"
  }
 },
 "nbformat": 4,
 "nbformat_minor": 5
}
