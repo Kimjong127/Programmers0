{
 "cells": [
  {
   "cell_type": "markdown",
   "id": "ab7bc662-0c4d-4db4-8b6c-27a98f08a73c",
   "metadata": {},
   "source": [
    "### 부분 문자열 이어 붙여 문자열 만들기 (181911)\n",
    "문제 : 길이가 같은 문자열 배열 my_strings와 이차원 정수 배열 parts가 매개변수로 주어집니다. parts[i]는 [s, e] 형태로, my_string[i]의 인덱스 s부터 인덱스 e까지의 부분 문자열을 의미합니다. 각 my_strings의 원소의 parts에 해당하는 부분 문자열을 순서대로 이어 붙인 문자열을 return 하는 solution 함수를 작성해 주세요."
   ]
  },
  {
   "cell_type": "code",
   "execution_count": 1,
   "id": "67cc2519-c35d-4e30-87b8-b332ea3e56db",
   "metadata": {},
   "outputs": [
    {
     "data": {
      "text/plain": [
       "'programmers'"
      ]
     },
     "execution_count": 1,
     "metadata": {},
     "output_type": "execute_result"
    }
   ],
   "source": [
    "def solution(my_strings, parts):\n",
    "\t\tresult= ''\n",
    "\t\tfor s, i in zip(my_strings, parts):   # 문자열과 parts를 zip을 사용하여 각각 반복문을 돌림\n",
    "\t\t\t\tresult += s[i[0]:i[1]+1]     # 비어있는 문자열에 같은 순서의 문자열과 그에 해당하는 parts[0]부터 parts[1]까지 잘라내어 붙임\n",
    "\t\treturn result\n",
    "    \n",
    "solution([\"progressive\", \"hamburger\", \"hammer\", \"ahocorasick\"], [[0, 4], [1, 2], [3, 5], [7, 7]])"
   ]
  },
  {
   "cell_type": "code",
   "execution_count": null,
   "id": "d6569171-8f8d-4674-b4a8-a64f99beedd4",
   "metadata": {},
   "outputs": [],
   "source": []
  },
  {
   "cell_type": "markdown",
   "id": "eca7f63c-c7d1-471d-9c27-333acf071501",
   "metadata": {},
   "source": [
    "### 접미사 배열 (181909)\n",
    "문제 : 어떤 문자열에 대해서 접미사는 특정 인덱스부터 시작하는 문자열을 의미합니다. 예를 들어, \"banana\"의 모든 접미사는 \"banana\", \"anana\", \"nana\", \"ana\", \"na\", \"a\"입니다.\n",
    "문자열 my_string이 매개변수로 주어질 때, my_string의 모든 접미사를 사전순으로 정렬한 문자열 배열을 return 하는 solution 함수를 작성해 주세요."
   ]
  },
  {
   "cell_type": "code",
   "execution_count": 8,
   "id": "d65de37e-7112-4ffd-a15e-6625a37aaabe",
   "metadata": {},
   "outputs": [
    {
     "data": {
      "text/plain": [
       "['a', 'ana', 'anana', 'banana', 'na', 'nana']"
      ]
     },
     "execution_count": 8,
     "metadata": {},
     "output_type": "execute_result"
    }
   ],
   "source": [
    "def solution(my_string):\n",
    "    result = []\n",
    "    for i in range(len(my_string)):\n",
    "        result.append(my_string[i:])\n",
    "    return sorted(result)\n",
    "\n",
    "solution(\"banana\")"
   ]
  },
  {
   "cell_type": "code",
   "execution_count": 9,
   "id": "be916659-ce73-46b1-afcc-22f00bc35df4",
   "metadata": {},
   "outputs": [
    {
     "data": {
      "text/plain": [
       "['a', 'ana', 'anana', 'banana', 'na', 'nana']"
      ]
     },
     "execution_count": 9,
     "metadata": {},
     "output_type": "execute_result"
    }
   ],
   "source": [
    "def solution(my_string):\n",
    "    return sorted([my_string[i:] for i in range(len(my_string))])\n",
    "\n",
    "solution(\"banana\")"
   ]
  },
  {
   "cell_type": "code",
   "execution_count": null,
   "id": "f9acdf22-43de-4b88-9331-62309392b46f",
   "metadata": {},
   "outputs": [],
   "source": []
  },
  {
   "cell_type": "markdown",
   "id": "f4160d39-76f4-4678-a0ac-e72344df5fda",
   "metadata": {},
   "source": [
    "### 접미사인지 확인하기 (181908)\n",
    "문제 : 어떤 문자열에 대해서 접미사는 특정 인덱스부터 시작하는 문자열을 의미합니다. 예를 들어, \"banana\"의 모든 접미사는 \"banana\", \"anana\", \"nana\", \"ana\", \"na\", \"a\"입니다.\n",
    "문자열 my_string과 is_suffix가 주어질 때, is_suffix가 my_string의 접미사라면 1을, 아니면 0을 return 하는 solution 함수를 작성해 주세요."
   ]
  },
  {
   "cell_type": "code",
   "execution_count": 10,
   "id": "93c563b6-117d-4b98-86ff-df721c50129e",
   "metadata": {},
   "outputs": [
    {
     "data": {
      "text/plain": [
       "1"
      ]
     },
     "execution_count": 10,
     "metadata": {},
     "output_type": "execute_result"
    }
   ],
   "source": [
    "def solution(my_string, is_suffix):\n",
    "    result = []\n",
    "    for i in range(len(my_string)):\n",
    "        result.append(my_string[i:])\n",
    "    if is_suffix in result:\n",
    "        return 1\n",
    "    else:\n",
    "        return 0\n",
    "    \n",
    "solution(\"banana\", \"ana\")"
   ]
  }
 ],
 "metadata": {
  "kernelspec": {
   "display_name": "Python 3 (ipykernel)",
   "language": "python",
   "name": "python3"
  },
  "language_info": {
   "codemirror_mode": {
    "name": "ipython",
    "version": 3
   },
   "file_extension": ".py",
   "mimetype": "text/x-python",
   "name": "python",
   "nbconvert_exporter": "python",
   "pygments_lexer": "ipython3",
   "version": "3.10.7"
  }
 },
 "nbformat": 4,
 "nbformat_minor": 5
}
