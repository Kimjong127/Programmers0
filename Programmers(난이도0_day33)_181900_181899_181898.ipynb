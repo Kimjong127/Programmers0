{
 "cells": [
  {
   "cell_type": "markdown",
   "id": "fc9a1e17-36a9-4003-b6e9-c0f82ce99058",
   "metadata": {},
   "source": [
    "### 글자 지우기 (181900)\n",
    "문제 : 문자열 my_string과 정수 배열 indices가 주어질 때, my_string에서 indices의 원소에 해당하는 인덱스의 글자를 지우고 이어 붙인 문자열을 return 하는 solution 함수를 작성해 주세요."
   ]
  },
  {
   "cell_type": "code",
   "execution_count": 7,
   "id": "3145180d-60db-4c59-ba76-abae19bce104",
   "metadata": {},
   "outputs": [
    {
     "data": {
      "text/plain": [
       "'programmers'"
      ]
     },
     "execution_count": 7,
     "metadata": {},
     "output_type": "execute_result"
    }
   ],
   "source": [
    "def solution(my_string, indices):\n",
    "    result = ''\n",
    "    for i in range(len(my_string)):\n",
    "        if i not in indices:\n",
    "            result += my_string[i]\n",
    "    return result\n",
    "\n",
    "solution(\"apporoograpemmemprs\", [1, 16, 6, 15, 0, 10, 11, 3])"
   ]
  },
  {
   "cell_type": "code",
   "execution_count": 8,
   "id": "9c8bda82-4f0e-42b2-b3ba-4ae086859474",
   "metadata": {},
   "outputs": [
    {
     "data": {
      "text/plain": [
       "'programmers'"
      ]
     },
     "execution_count": 8,
     "metadata": {},
     "output_type": "execute_result"
    }
   ],
   "source": [
    "def solution(my_string, indices):\n",
    "    return ''.join([my_string[i] for i in range(len(my_string)) if i not in indices])\n",
    "\n",
    "solution(\"apporoograpemmemprs\", [1, 16, 6, 15, 0, 10, 11, 3])"
   ]
  },
  {
   "cell_type": "code",
   "execution_count": null,
   "id": "ef48ba1a-a28c-4915-8a5f-87ca190ee37e",
   "metadata": {},
   "outputs": [],
   "source": []
  },
  {
   "cell_type": "markdown",
   "id": "616d03e9-b8ee-4458-8490-03f379ef7c02",
   "metadata": {},
   "source": [
    "### 카운트 다운 (181899)\n",
    "문제 : 정수 start_num와 end_num가 주어질 때, start_num에서 end_num까지 1씩 감소하는 수들을 차례로 담은 리스트를 return하도록 solution 함수를 완성해주세요."
   ]
  },
  {
   "cell_type": "code",
   "execution_count": 12,
   "id": "85ac6c85-0988-45cb-ac78-abb1058af11b",
   "metadata": {},
   "outputs": [
    {
     "data": {
      "text/plain": [
       "[10, 9, 8, 7, 6, 5, 4, 3]"
      ]
     },
     "execution_count": 12,
     "metadata": {},
     "output_type": "execute_result"
    }
   ],
   "source": [
    "def solution(start_num, end_num):\n",
    "    return [i for i in range(end_num, start_num+1)[::-1]]   # end_num부터 start_num + 1 까지 역순으로 리스트에 저장\n",
    "\n",
    "solution(10, 3)"
   ]
  },
  {
   "cell_type": "code",
   "execution_count": null,
   "id": "90ab47d7-905e-4052-9e7c-a75e1f68599b",
   "metadata": {},
   "outputs": [],
   "source": []
  },
  {
   "cell_type": "markdown",
   "id": "5527f267-51d7-4175-8b32-25fe0688082f",
   "metadata": {},
   "source": [
    "### 가까운 1 찾기 (181898)\n",
    "문제 : 정수 배열 arr가 주어집니다. 이때 arr의 원소는 1 또는 0입니다. 정수 idx가 주어졌을 때, idx보다 크면서 배열의 값이 1인 가장 작은 인덱스를 찾아서 반환하는 solution 함수를 완성해 주세요.\n",
    "\n",
    "단, 만약 그러한 인덱스가 없다면 -1을 반환합니다."
   ]
  },
  {
   "cell_type": "code",
   "execution_count": 1,
   "id": "ea534701-a9a4-4e4e-9b67-28169caa1a39",
   "metadata": {},
   "outputs": [
    {
     "data": {
      "text/plain": [
       "3"
      ]
     },
     "execution_count": 1,
     "metadata": {},
     "output_type": "execute_result"
    }
   ],
   "source": [
    "def solution(arr, idx):\n",
    "    # idx 부터 배열의 끝까지 탐색\n",
    "    for i in range(idx + 1, len(arr)):\n",
    "        # 값이 1인 인덱스를 찾으면 반환\n",
    "        if arr[i] == 1:\n",
    "            return i\n",
    "    # 해당 조건을 만족하는 인덱스가 없으면 -1 반환\n",
    "    return -1\n",
    "\n",
    "solution([0, 0, 0, 1], 1) "
   ]
  }
 ],
 "metadata": {
  "kernelspec": {
   "display_name": "Python 3 (ipykernel)",
   "language": "python",
   "name": "python3"
  },
  "language_info": {
   "codemirror_mode": {
    "name": "ipython",
    "version": 3
   },
   "file_extension": ".py",
   "mimetype": "text/x-python",
   "name": "python",
   "nbconvert_exporter": "python",
   "pygments_lexer": "ipython3",
   "version": "3.10.7"
  }
 },
 "nbformat": 4,
 "nbformat_minor": 5
}
