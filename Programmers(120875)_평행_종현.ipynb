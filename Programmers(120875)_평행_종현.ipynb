{
 "cells": [
  {
   "cell_type": "markdown",
   "id": "614a599b-0bb9-477d-aea8-4efad8bc3c96",
   "metadata": {},
   "source": [
    "### 평행 (120875)\n",
    "문제 : 점 네 개의 좌표를 담은 이차원 배열  dots가 다음과 같이 매개변수로 주어집니다.\n",
    "\n",
    " - [[x1, y1], [x2, y2], [x3, y3], [x4, y4]]\n",
    "\n",
    "주어진 네 개의 점을 두 개씩 이었을 때, 두 직선이 평행이 되는 경우가 있으면 1을 없으면 0을 return 하도록 solution 함수를 완성해보세요."
   ]
  },
  {
   "cell_type": "markdown",
   "id": "6dc62400-96cc-4df8-8ab0-5cd57f4f845b",
   "metadata": {},
   "source": [
    "평행하다 = 각 선분의 기울기가 같다.\n",
    "선분의 기울기 = y증가량 / x증가량\n",
    "증가량 = A와 B선분의 x좌표끼리, y좌표끼리의 뺄셈"
   ]
  },
  {
   "cell_type": "code",
   "execution_count": 1,
   "id": "9927aad1-d3db-4875-aa4f-2fe25ca61190",
   "metadata": {},
   "outputs": [
    {
     "data": {
      "text/plain": [
       "1"
      ]
     },
     "execution_count": 1,
     "metadata": {},
     "output_type": "execute_result"
    }
   ],
   "source": [
    "from itertools import combinations\n",
    "from fractions import Fraction\n",
    "\n",
    "def solution(dots):\n",
    "    temp = []                                                     # 중복을 제거하기 위해 기울기를 집합형태로 저장\n",
    "    for dot1, dot2 in combinations(dots, 2):                          # combinations를 사용해 점1과 점2로 구분하여 for반복문을 돌림\n",
    "        inclination = Fraction(dot1[1] - dot2[1], dot1[0] - dot2[0])  # Fraction = 분자/분모 형태로 분수를 만드는 함수, 즉 각 점의 x좌표끼리, y좌표끼리 뺄셈을 한 값을 분수로 만들어 증가량을 확인        \n",
    "        if inclination in temp:                                       # 증가량이 temp집합에 있다면,(기울기가 같은 경우가 있다는 것은 평행하다는 의미)\n",
    "            temp.append(inclination)\n",
    "            return 1\n",
    "        temp.append(inclination)                                        # temp집합에 add함수로 inclination을 더해줌 / {Fraction(x, y), Fraction(x1, y1)}의 형태로 저장됨\n",
    "    return 0\n",
    "solution([[1, 4], [9, 2], [3, 8], [11, 6]])"
   ]
  }
 ],
 "metadata": {
  "kernelspec": {
   "display_name": "Python 3 (ipykernel)",
   "language": "python",
   "name": "python3"
  },
  "language_info": {
   "codemirror_mode": {
    "name": "ipython",
    "version": 3
   },
   "file_extension": ".py",
   "mimetype": "text/x-python",
   "name": "python",
   "nbconvert_exporter": "python",
   "pygments_lexer": "ipython3",
   "version": "3.10.7"
  }
 },
 "nbformat": 4,
 "nbformat_minor": 5
}
