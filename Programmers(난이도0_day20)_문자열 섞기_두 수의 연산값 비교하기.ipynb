{
 "cells": [
  {
   "cell_type": "markdown",
   "id": "58e2e022-e596-44f0-a599-67fe3517187d",
   "metadata": {
    "tags": []
   },
   "source": [
    "### 문자열 섞기 (181942)\n",
    "문제 : 길이가 같은 두 문자열 str1과 str2가 주어집니다.\n",
    "두 문자열의 각 문자가 앞에서부터 서로 번갈아가면서 한 번씩 등장하는 문자열을 만들어 return 하는 solution 함수를 완성해 주세요."
   ]
  },
  {
   "cell_type": "code",
   "execution_count": 3,
   "id": "2024e56a-18eb-4c06-8b72-6dda15e2b645",
   "metadata": {},
   "outputs": [
    {
     "data": {
      "text/plain": [
       "'ababababab'"
      ]
     },
     "execution_count": 3,
     "metadata": {},
     "output_type": "execute_result"
    }
   ],
   "source": [
    "def solution(str1, str2):\n",
    "    return ''.join([str1[i] + str2[i] for i in range(len(str1))])\n",
    "\n",
    "solution('aaaaa', 'bbbbb')"
   ]
  },
  {
   "cell_type": "code",
   "execution_count": null,
   "id": "56db5e7a-9001-4ab1-ba47-73cf1143e660",
   "metadata": {},
   "outputs": [],
   "source": []
  },
  {
   "cell_type": "markdown",
   "id": "a93fddca-d879-4f3e-83f2-e8e43a5d1a1d",
   "metadata": {},
   "source": [
    "### 문자열 겹쳐쓰기 (181943)\n",
    "문제 : 문자열 my_string, overwrite_string과 정수 s가 주어집니다. 문자열 my_string의 인덱스 s부터 overwrite_string의 길이만큼을 문자열 overwrite_string으로 바꾼 문자열을 return 하는 solution 함수를 작성해 주세요."
   ]
  },
  {
   "cell_type": "code",
   "execution_count": 2,
   "id": "ed455f2e-f3dc-43d6-ba89-0756b1a72410",
   "metadata": {},
   "outputs": [
    {
     "data": {
      "text/plain": [
       "'HelloWorld'"
      ]
     },
     "execution_count": 2,
     "metadata": {},
     "output_type": "execute_result"
    }
   ],
   "source": [
    "def solution(my_string, overwrite_string, s):\n",
    "    len_over = len(overwrite_string)\n",
    "    return my_string[:s] + overwrite_string + my_string[s+len_over:]\n",
    "    \n",
    "solution(\"He11oWor1d\", \"lloWorl\", 2)"
   ]
  },
  {
   "cell_type": "code",
   "execution_count": null,
   "id": "8614073b-e644-4ecd-aff8-f05b38c0c83e",
   "metadata": {},
   "outputs": [],
   "source": []
  },
  {
   "cell_type": "markdown",
   "id": "023b028d-a88c-40a7-bd0d-c27812f2d909",
   "metadata": {},
   "source": [
    "### 더 크게 합치기 (181939)\n",
    "문제 : 연산 ⊕는 두 정수에 대한 연산으로 두 정수를 붙여서 쓴 값을 반환합니다. 예를 들면 다음과 같습니다.\n",
    "\n",
    "12 ⊕ 3 = 123\n",
    "3 ⊕ 12 = 312\n",
    "\n",
    "양의 정수 a와 b가 주어졌을 때, a ⊕ b와 b ⊕ a 중 더 큰 값을 return 하는 solution 함수를 완성해 주세요.\n",
    "\n",
    "단, a ⊕ b와 b ⊕ a가 같다면 a ⊕ b를 return 합니다."
   ]
  },
  {
   "cell_type": "code",
   "execution_count": 5,
   "id": "fbc96e87-28c5-4d25-a8c2-72951d3cb94f",
   "metadata": {},
   "outputs": [
    {
     "data": {
      "text/plain": [
       "991"
      ]
     },
     "execution_count": 5,
     "metadata": {},
     "output_type": "execute_result"
    }
   ],
   "source": [
    "def solution(a, b):\n",
    "    if int(str(a) + str(b)) == int(str(b) + str(a)):\n",
    "        return int(str(a) + str(b))\n",
    "    else:\n",
    "        return max(int(str(a) + str(b)), int(str(b) + str(a)))\n",
    "    \n",
    "solution(9, 91)"
   ]
  },
  {
   "cell_type": "code",
   "execution_count": null,
   "id": "6ea2bc2a-ae1d-453d-b53a-e9c211e2c0b7",
   "metadata": {},
   "outputs": [],
   "source": []
  },
  {
   "cell_type": "markdown",
   "id": "b7b3ec09-040e-47d6-9a8b-9ddddc23977b",
   "metadata": {},
   "source": [
    "### 두 수의 연산값 비교하기 (181938)\n",
    "문제 : 연산 ⊕는 두 정수에 대한 연산으로 두 정수를 붙여서 쓴 값을 반환합니다. 예를 들면 다음과 같습니다.\n",
    "\n",
    "12 ⊕ 3 = 123\n",
    "3 ⊕ 12 = 312\n",
    "\n",
    "양의 정수 a와 b가 주어졌을 때, a ⊕ b와 2 * a * b 중 더 큰 값을 return하는 solution 함수를 완성해 주세요.\n",
    "\n",
    "단, a ⊕ b와 2 * a * b가 같으면 a ⊕ b를 return 합니다."
   ]
  },
  {
   "cell_type": "code",
   "execution_count": 7,
   "id": "352e9484-3dae-4259-a3d3-5d5667a7a14e",
   "metadata": {},
   "outputs": [
    {
     "data": {
      "text/plain": [
       "364"
      ]
     },
     "execution_count": 7,
     "metadata": {},
     "output_type": "execute_result"
    }
   ],
   "source": [
    "def solution(a, b):\n",
    "    return max(int(f'{a}{b}'), 2*a*b)\n",
    "\n",
    "solution(2, 91)"
   ]
  }
 ],
 "metadata": {
  "kernelspec": {
   "display_name": "Python 3 (ipykernel)",
   "language": "python",
   "name": "python3"
  },
  "language_info": {
   "codemirror_mode": {
    "name": "ipython",
    "version": 3
   },
   "file_extension": ".py",
   "mimetype": "text/x-python",
   "name": "python",
   "nbconvert_exporter": "python",
   "pygments_lexer": "ipython3",
   "version": "3.10.7"
  }
 },
 "nbformat": 4,
 "nbformat_minor": 5
}
